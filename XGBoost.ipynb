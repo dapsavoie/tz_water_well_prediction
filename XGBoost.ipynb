{
  "nbformat": 4,
  "nbformat_minor": 0,
  "metadata": {
    "colab": {
      "name": "XGBoost.ipynb",
      "provenance": [],
      "authorship_tag": "ABX9TyMG/Jvdc8XIyH2NSqzhTLhv",
      "include_colab_link": true
    },
    "kernelspec": {
      "name": "python3",
      "display_name": "Python 3"
    }
  },
  "cells": [
    {
      "cell_type": "markdown",
      "metadata": {
        "id": "view-in-github",
        "colab_type": "text"
      },
      "source": [
        "<a href=\"https://colab.research.google.com/github/dapsavoie/tz_water_well_prediction/blob/master/XGBoost.ipynb\" target=\"_parent\"><img src=\"https://colab.research.google.com/assets/colab-badge.svg\" alt=\"Open In Colab\"/></a>"
      ]
    },
    {
      "cell_type": "markdown",
      "metadata": {
        "id": "pg3zI8zqle1y",
        "colab_type": "text"
      },
      "source": [
        "# Import Libraries "
      ]
    },
    {
      "cell_type": "code",
      "metadata": {
        "id": "SEZgZs5qZPpW",
        "colab_type": "code",
        "colab": {}
      },
      "source": [
        "import pandas as pd \n",
        "import numpy as np"
      ],
      "execution_count": 0,
      "outputs": []
    },
    {
      "cell_type": "code",
      "metadata": {
        "id": "5UyUYnswZTvo",
        "colab_type": "code",
        "colab": {
          "base_uri": "https://localhost:8080/",
          "height": 55
        },
        "outputId": "bd5af17b-c89c-48cc-f24e-5003d20c6e5b"
      },
      "source": [
        "from google.colab import drive\n",
        "drive.mount('/content/drive')"
      ],
      "execution_count": 40,
      "outputs": [
        {
          "output_type": "stream",
          "text": [
            "Drive already mounted at /content/drive; to attempt to forcibly remount, call drive.mount(\"/content/drive\", force_remount=True).\n"
          ],
          "name": "stdout"
        }
      ]
    },
    {
      "cell_type": "markdown",
      "metadata": {
        "id": "5r3y7dc5lhnx",
        "colab_type": "text"
      },
      "source": [
        "# Train Test Split"
      ]
    },
    {
      "cell_type": "code",
      "metadata": {
        "id": "YDBiLHkqZepN",
        "colab_type": "code",
        "colab": {}
      },
      "source": [
        "#Train dummies \n",
        "train_dummies = pd.read_csv(r'/content/drive/My Drive/tz_water_well_data/train_dummmies.csv')\n",
        "\n",
        "#Test export to csv \n",
        "test_dummies = pd.read_csv(r'/content/drive/My Drive/tz_water_well_data/test_dummies.csv')"
      ],
      "execution_count": 0,
      "outputs": []
    },
    {
      "cell_type": "code",
      "metadata": {
        "id": "QUNptq_uZe0p",
        "colab_type": "code",
        "colab": {
          "base_uri": "https://localhost:8080/",
          "height": 35
        },
        "outputId": "d08986e5-c173-4b1b-890e-3c974530f22d"
      },
      "source": [
        "train_dummies.shape, test_dummies.shape"
      ],
      "execution_count": 42,
      "outputs": [
        {
          "output_type": "execute_result",
          "data": {
            "text/plain": [
              "((59400, 315), (14850, 315))"
            ]
          },
          "metadata": {
            "tags": []
          },
          "execution_count": 42
        }
      ]
    },
    {
      "cell_type": "markdown",
      "metadata": {
        "id": "_OrDyx3il6-g",
        "colab_type": "text"
      },
      "source": [
        "# XGBOOST"
      ]
    },
    {
      "cell_type": "code",
      "metadata": {
        "id": "h_PRLZNyagrI",
        "colab_type": "code",
        "colab": {}
      },
      "source": [
        "labels = df_labels['status_group']\n",
        "\n",
        "x = train_dummies"
      ],
      "execution_count": 0,
      "outputs": []
    },
    {
      "cell_type": "code",
      "metadata": {
        "id": "5roNkcSfbeVs",
        "colab_type": "code",
        "colab": {}
      },
      "source": [
        "import xgboost as xgb\n",
        "from sklearn.preprocessing import StandardScaler\n",
        "from sklearn.metrics import accuracy_score"
      ],
      "execution_count": 0,
      "outputs": []
    },
    {
      "cell_type": "code",
      "metadata": {
        "id": "wiXcHY2UbEfI",
        "colab_type": "code",
        "colab": {}
      },
      "source": [
        "scaler = StandardScaler()"
      ],
      "execution_count": 0,
      "outputs": []
    },
    {
      "cell_type": "code",
      "metadata": {
        "id": "IScXZ_4tbVkk",
        "colab_type": "code",
        "colab": {}
      },
      "source": [
        "scaled_df = scaler.fit_transform(x)"
      ],
      "execution_count": 0,
      "outputs": []
    },
    {
      "cell_type": "code",
      "metadata": {
        "id": "dJN14Hk5bucp",
        "colab_type": "code",
        "colab": {}
      },
      "source": [
        "from sklearn.model_selection import train_test_split\n",
        "\n",
        "X_train, X_test, y_train, y_test = train_test_split(scaled_df, labels)"
      ],
      "execution_count": 0,
      "outputs": []
    },
    {
      "cell_type": "code",
      "metadata": {
        "id": "bFBt1aWIbxuB",
        "colab_type": "code",
        "colab": {
          "base_uri": "https://localhost:8080/",
          "height": 52
        },
        "outputId": "cdfb71af-9f2a-4e3b-aa8c-6a31158c0838"
      },
      "source": [
        "clf = xgb.XGBClassifier()\n",
        "clf.fit(X_train, y_train)\n",
        "training_preds = clf.predict(X_train)\n",
        "val_preds = clf.predict(X_test)\n",
        "training_accuracy = accuracy_score(y_train, training_preds)\n",
        "val_accuracy = accuracy_score(y_test, val_preds)\n",
        "\n",
        "print(\"Training Accuracy: {:.4}%\".format(training_accuracy * 100))\n",
        "print(\"Validation accuracy: {:.4}%\".format(val_accuracy * 100))"
      ],
      "execution_count": 48,
      "outputs": [
        {
          "output_type": "stream",
          "text": [
            "Training Accuracy: 74.64%\n",
            "Validation accuracy: 74.97%\n"
          ],
          "name": "stdout"
        }
      ]
    },
    {
      "cell_type": "code",
      "metadata": {
        "id": "Ia-cxLM5c5e4",
        "colab_type": "code",
        "colab": {
          "base_uri": "https://localhost:8080/",
          "height": 35
        },
        "outputId": "d5e66a58-aeab-4c27-c786-6f85bd54630b"
      },
      "source": [
        "test_preds = clf.predict(test_dummies, validate_features=False)\n",
        "val_accuracy = accuracy_score(y_test, test_preds)\n",
        "val_accuracy"
      ],
      "execution_count": 56,
      "outputs": [
        {
          "output_type": "execute_result",
          "data": {
            "text/plain": [
              "0.5437710437710438"
            ]
          },
          "metadata": {
            "tags": []
          },
          "execution_count": 56
        }
      ]
    },
    {
      "cell_type": "code",
      "metadata": {
        "id": "6g8toS38gq9o",
        "colab_type": "code",
        "colab": {}
      },
      "source": [
        "# Grid Search CV \n",
        "\n",
        "from sklearn.model_selection import GridSearchCV"
      ],
      "execution_count": 0,
      "outputs": []
    },
    {
      "cell_type": "code",
      "metadata": {
        "id": "LnUmLPXdlI_q",
        "colab_type": "code",
        "colab": {}
      },
      "source": [
        "param_grid = {\n",
        "    \"learning_rate\": [0.1],\n",
        "    'max_depth': [6],\n",
        "    'min_child_weight': [10],\n",
        "    'subsample': [ 0.7],\n",
        "    'n_estimators': [5, 30, 100, 250],\n",
        "}"
      ],
      "execution_count": 0,
      "outputs": []
    },
    {
      "cell_type": "code",
      "metadata": {
        "id": "XggZbBiRgR3S",
        "colab_type": "code",
        "colab": {}
      },
      "source": [
        "grid_clf = GridSearchCV(clf, param_grid, scoring='accuracy', cv=None, n_jobs=1)\n",
        "grid_clf.fit(scaled_df, labels)\n",
        "\n",
        "best_parameters = grid_clf.best_params_\n",
        "\n",
        "print(\"Grid Search found the following optimal parameters: \")\n",
        "for param_name in sorted(best_parameters.keys()):\n",
        "    print(\"%s: %r\" % (param_name, best_parameters[param_name]))\n",
        "\n",
        "training_preds = grid_clf.predict(X_train)\n",
        "val_preds = grid_clf.predict(X_test)\n",
        "training_accuracy = accuracy_score(y_train, training_preds)\n",
        "val_accuracy = accuracy_score(y_test, val_preds)\n",
        "\n",
        "print(\"\")\n",
        "print(\"Training Accuracy: {:.4}%\".format(training_accuracy * 100))\n",
        "print(\"Validation accuracy: {:.4}%\".format(val_accuracy * 100))"
      ],
      "execution_count": 0,
      "outputs": []
    },
    {
      "cell_type": "code",
      "metadata": {
        "id": "GeAXSJ2ClFHD",
        "colab_type": "code",
        "colab": {}
      },
      "source": [
        ""
      ],
      "execution_count": 0,
      "outputs": []
    }
  ]
}