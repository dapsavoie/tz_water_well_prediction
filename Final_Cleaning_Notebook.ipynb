{
  "nbformat": 4,
  "nbformat_minor": 0,
  "metadata": {
    "colab": {
      "name": "Final Cleaning Notebook.ipynb",
      "provenance": [],
      "authorship_tag": "ABX9TyOiSKdpZuX3mCKHzEJKunk/",
      "include_colab_link": true
    },
    "kernelspec": {
      "name": "python3",
      "display_name": "Python 3"
    }
  },
  "cells": [
    {
      "cell_type": "markdown",
      "metadata": {
        "id": "view-in-github",
        "colab_type": "text"
      },
      "source": [
        "<a href=\"https://colab.research.google.com/github/dapsavoie/tz_water_well_prediction/blob/master/Final_Cleaning_Notebook.ipynb\" target=\"_parent\"><img src=\"https://colab.research.google.com/assets/colab-badge.svg\" alt=\"Open In Colab\"/></a>"
      ]
    },
    {
      "cell_type": "markdown",
      "metadata": {
        "id": "KbGygecqzv-K",
        "colab_type": "text"
      },
      "source": [
        "# Load Data "
      ]
    },
    {
      "cell_type": "code",
      "metadata": {
        "id": "VhUor2hdzoaG",
        "colab_type": "code",
        "colab": {}
      },
      "source": [
        "import pandas as pd \n",
        "import numpy as np "
      ],
      "execution_count": 0,
      "outputs": []
    },
    {
      "cell_type": "code",
      "metadata": {
        "id": "1zsUGAaDz0b0",
        "colab_type": "code",
        "outputId": "16b9b2c8-0732-4194-8389-45edcce5a9d9",
        "colab": {
          "base_uri": "https://localhost:8080/",
          "height": 35
        }
      },
      "source": [
        "from google.colab import drive\n",
        "drive.mount('/content/drive')"
      ],
      "execution_count": 80,
      "outputs": [
        {
          "output_type": "stream",
          "text": [
            "Drive already mounted at /content/drive; to attempt to forcibly remount, call drive.mount(\"/content/drive\", force_remount=True).\n"
          ],
          "name": "stdout"
        }
      ]
    },
    {
      "cell_type": "code",
      "metadata": {
        "id": "J5yml9YDz1Va",
        "colab_type": "code",
        "colab": {}
      },
      "source": [
        "df_values = pd.read_csv('/content/drive/My Drive/tz_water_well_data/training_set_labels.csv')\n",
        "df_labels = pd.read_csv('/content/drive/My Drive/tz_water_well_data/training_set_values.csv')\n",
        "\n",
        "df_test_set = pd.read_csv('/content/drive/My Drive/tz_water_well_data/test_set_values.csv')"
      ],
      "execution_count": 0,
      "outputs": []
    },
    {
      "cell_type": "code",
      "metadata": {
        "id": "4kSIgskr7Zul",
        "colab_type": "code",
        "outputId": "4cdd086d-d04e-49d0-9863-ed405e72cdc4",
        "colab": {
          "base_uri": "https://localhost:8080/",
          "height": 230
        }
      },
      "source": [
        "df_values['construction_year']"
      ],
      "execution_count": 82,
      "outputs": [
        {
          "output_type": "execute_result",
          "data": {
            "text/plain": [
              "0        1999\n",
              "1        2010\n",
              "2        2009\n",
              "3        1986\n",
              "4           0\n",
              "         ... \n",
              "59395    1999\n",
              "59396    1996\n",
              "59397       0\n",
              "59398       0\n",
              "59399    2002\n",
              "Name: construction_year, Length: 59400, dtype: int64"
            ]
          },
          "metadata": {
            "tags": []
          },
          "execution_count": 82
        }
      ]
    },
    {
      "cell_type": "code",
      "metadata": {
        "id": "NaITdMiaKH35",
        "colab_type": "code",
        "outputId": "54008fc7-b105-484c-f895-834ed11ddd72",
        "colab": {
          "base_uri": "https://localhost:8080/",
          "height": 512
        }
      },
      "source": [
        "pd.to_datetime(df_values['construction_year'], format=\"%Y\")"
      ],
      "execution_count": 83,
      "outputs": [
        {
          "output_type": "error",
          "ename": "ValueError",
          "evalue": "ignored",
          "traceback": [
            "\u001b[0;31m---------------------------------------------------------------------------\u001b[0m",
            "\u001b[0;31mTypeError\u001b[0m                                 Traceback (most recent call last)",
            "\u001b[0;32m/usr/local/lib/python3.6/dist-packages/pandas/core/tools/datetimes.py\u001b[0m in \u001b[0;36m_convert_listlike_datetimes\u001b[0;34m(arg, box, format, name, tz, unit, errors, infer_datetime_format, dayfirst, yearfirst, exact)\u001b[0m\n\u001b[1;32m    447\u001b[0m             \u001b[0;32mtry\u001b[0m\u001b[0;34m:\u001b[0m\u001b[0;34m\u001b[0m\u001b[0;34m\u001b[0m\u001b[0m\n\u001b[0;32m--> 448\u001b[0;31m                 \u001b[0mvalues\u001b[0m\u001b[0;34m,\u001b[0m \u001b[0mtz\u001b[0m \u001b[0;34m=\u001b[0m \u001b[0mconversion\u001b[0m\u001b[0;34m.\u001b[0m\u001b[0mdatetime_to_datetime64\u001b[0m\u001b[0;34m(\u001b[0m\u001b[0marg\u001b[0m\u001b[0;34m)\u001b[0m\u001b[0;34m\u001b[0m\u001b[0;34m\u001b[0m\u001b[0m\n\u001b[0m\u001b[1;32m    449\u001b[0m                 \u001b[0;32mreturn\u001b[0m \u001b[0mDatetimeIndex\u001b[0m\u001b[0;34m.\u001b[0m\u001b[0m_simple_new\u001b[0m\u001b[0;34m(\u001b[0m\u001b[0mvalues\u001b[0m\u001b[0;34m,\u001b[0m \u001b[0mname\u001b[0m\u001b[0;34m=\u001b[0m\u001b[0mname\u001b[0m\u001b[0;34m,\u001b[0m \u001b[0mtz\u001b[0m\u001b[0;34m=\u001b[0m\u001b[0mtz\u001b[0m\u001b[0;34m)\u001b[0m\u001b[0;34m\u001b[0m\u001b[0;34m\u001b[0m\u001b[0m\n",
            "\u001b[0;32mpandas/_libs/tslibs/conversion.pyx\u001b[0m in \u001b[0;36mpandas._libs.tslibs.conversion.datetime_to_datetime64\u001b[0;34m()\u001b[0m\n",
            "\u001b[0;31mTypeError\u001b[0m: Unrecognized value type: <class 'int'>",
            "\nDuring handling of the above exception, another exception occurred:\n",
            "\u001b[0;31mValueError\u001b[0m                                Traceback (most recent call last)",
            "\u001b[0;32m<ipython-input-83-96aba7802022>\u001b[0m in \u001b[0;36m<module>\u001b[0;34m()\u001b[0m\n\u001b[0;32m----> 1\u001b[0;31m \u001b[0mpd\u001b[0m\u001b[0;34m.\u001b[0m\u001b[0mto_datetime\u001b[0m\u001b[0;34m(\u001b[0m\u001b[0mdf_values\u001b[0m\u001b[0;34m[\u001b[0m\u001b[0;34m'construction_year'\u001b[0m\u001b[0;34m]\u001b[0m\u001b[0;34m,\u001b[0m \u001b[0mformat\u001b[0m\u001b[0;34m=\u001b[0m\u001b[0;34m\"%Y\"\u001b[0m\u001b[0;34m)\u001b[0m\u001b[0;34m\u001b[0m\u001b[0;34m\u001b[0m\u001b[0m\n\u001b[0m",
            "\u001b[0;32m/usr/local/lib/python3.6/dist-packages/pandas/util/_decorators.py\u001b[0m in \u001b[0;36mwrapper\u001b[0;34m(*args, **kwargs)\u001b[0m\n\u001b[1;32m    206\u001b[0m                 \u001b[0;32melse\u001b[0m\u001b[0;34m:\u001b[0m\u001b[0;34m\u001b[0m\u001b[0;34m\u001b[0m\u001b[0m\n\u001b[1;32m    207\u001b[0m                     \u001b[0mkwargs\u001b[0m\u001b[0;34m[\u001b[0m\u001b[0mnew_arg_name\u001b[0m\u001b[0;34m]\u001b[0m \u001b[0;34m=\u001b[0m \u001b[0mnew_arg_value\u001b[0m\u001b[0;34m\u001b[0m\u001b[0;34m\u001b[0m\u001b[0m\n\u001b[0;32m--> 208\u001b[0;31m             \u001b[0;32mreturn\u001b[0m \u001b[0mfunc\u001b[0m\u001b[0;34m(\u001b[0m\u001b[0;34m*\u001b[0m\u001b[0margs\u001b[0m\u001b[0;34m,\u001b[0m \u001b[0;34m**\u001b[0m\u001b[0mkwargs\u001b[0m\u001b[0;34m)\u001b[0m\u001b[0;34m\u001b[0m\u001b[0;34m\u001b[0m\u001b[0m\n\u001b[0m\u001b[1;32m    209\u001b[0m \u001b[0;34m\u001b[0m\u001b[0m\n\u001b[1;32m    210\u001b[0m         \u001b[0;32mreturn\u001b[0m \u001b[0mwrapper\u001b[0m\u001b[0;34m\u001b[0m\u001b[0;34m\u001b[0m\u001b[0m\n",
            "\u001b[0;32m/usr/local/lib/python3.6/dist-packages/pandas/core/tools/datetimes.py\u001b[0m in \u001b[0;36mto_datetime\u001b[0;34m(arg, errors, dayfirst, yearfirst, utc, box, format, exact, unit, infer_datetime_format, origin, cache)\u001b[0m\n\u001b[1;32m    772\u001b[0m                 \u001b[0mresult\u001b[0m \u001b[0;34m=\u001b[0m \u001b[0mresult\u001b[0m\u001b[0;34m.\u001b[0m\u001b[0mtz_localize\u001b[0m\u001b[0;34m(\u001b[0m\u001b[0mtz\u001b[0m\u001b[0;34m)\u001b[0m\u001b[0;34m\u001b[0m\u001b[0;34m\u001b[0m\u001b[0m\n\u001b[1;32m    773\u001b[0m     \u001b[0;32melif\u001b[0m \u001b[0misinstance\u001b[0m\u001b[0;34m(\u001b[0m\u001b[0marg\u001b[0m\u001b[0;34m,\u001b[0m \u001b[0mABCSeries\u001b[0m\u001b[0;34m)\u001b[0m\u001b[0;34m:\u001b[0m\u001b[0;34m\u001b[0m\u001b[0;34m\u001b[0m\u001b[0m\n\u001b[0;32m--> 774\u001b[0;31m         \u001b[0mcache_array\u001b[0m \u001b[0;34m=\u001b[0m \u001b[0m_maybe_cache\u001b[0m\u001b[0;34m(\u001b[0m\u001b[0marg\u001b[0m\u001b[0;34m,\u001b[0m \u001b[0mformat\u001b[0m\u001b[0;34m,\u001b[0m \u001b[0mcache\u001b[0m\u001b[0;34m,\u001b[0m \u001b[0mconvert_listlike\u001b[0m\u001b[0;34m)\u001b[0m\u001b[0;34m\u001b[0m\u001b[0;34m\u001b[0m\u001b[0m\n\u001b[0m\u001b[1;32m    775\u001b[0m         \u001b[0;32mif\u001b[0m \u001b[0;32mnot\u001b[0m \u001b[0mcache_array\u001b[0m\u001b[0;34m.\u001b[0m\u001b[0mempty\u001b[0m\u001b[0;34m:\u001b[0m\u001b[0;34m\u001b[0m\u001b[0;34m\u001b[0m\u001b[0m\n\u001b[1;32m    776\u001b[0m             \u001b[0mresult\u001b[0m \u001b[0;34m=\u001b[0m \u001b[0marg\u001b[0m\u001b[0;34m.\u001b[0m\u001b[0mmap\u001b[0m\u001b[0;34m(\u001b[0m\u001b[0mcache_array\u001b[0m\u001b[0;34m)\u001b[0m\u001b[0;34m\u001b[0m\u001b[0;34m\u001b[0m\u001b[0m\n",
            "\u001b[0;32m/usr/local/lib/python3.6/dist-packages/pandas/core/tools/datetimes.py\u001b[0m in \u001b[0;36m_maybe_cache\u001b[0;34m(arg, format, cache, convert_listlike)\u001b[0m\n\u001b[1;32m    154\u001b[0m         \u001b[0munique_dates\u001b[0m \u001b[0;34m=\u001b[0m \u001b[0munique\u001b[0m\u001b[0;34m(\u001b[0m\u001b[0marg\u001b[0m\u001b[0;34m)\u001b[0m\u001b[0;34m\u001b[0m\u001b[0;34m\u001b[0m\u001b[0m\n\u001b[1;32m    155\u001b[0m         \u001b[0;32mif\u001b[0m \u001b[0mlen\u001b[0m\u001b[0;34m(\u001b[0m\u001b[0munique_dates\u001b[0m\u001b[0;34m)\u001b[0m \u001b[0;34m<\u001b[0m \u001b[0mlen\u001b[0m\u001b[0;34m(\u001b[0m\u001b[0marg\u001b[0m\u001b[0;34m)\u001b[0m\u001b[0;34m:\u001b[0m\u001b[0;34m\u001b[0m\u001b[0;34m\u001b[0m\u001b[0m\n\u001b[0;32m--> 156\u001b[0;31m             \u001b[0mcache_dates\u001b[0m \u001b[0;34m=\u001b[0m \u001b[0mconvert_listlike\u001b[0m\u001b[0;34m(\u001b[0m\u001b[0munique_dates\u001b[0m\u001b[0;34m,\u001b[0m \u001b[0;32mTrue\u001b[0m\u001b[0;34m,\u001b[0m \u001b[0mformat\u001b[0m\u001b[0;34m)\u001b[0m\u001b[0;34m\u001b[0m\u001b[0;34m\u001b[0m\u001b[0m\n\u001b[0m\u001b[1;32m    157\u001b[0m             \u001b[0mcache_array\u001b[0m \u001b[0;34m=\u001b[0m \u001b[0mSeries\u001b[0m\u001b[0;34m(\u001b[0m\u001b[0mcache_dates\u001b[0m\u001b[0;34m,\u001b[0m \u001b[0mindex\u001b[0m\u001b[0;34m=\u001b[0m\u001b[0munique_dates\u001b[0m\u001b[0;34m)\u001b[0m\u001b[0;34m\u001b[0m\u001b[0;34m\u001b[0m\u001b[0m\n\u001b[1;32m    158\u001b[0m     \u001b[0;32mreturn\u001b[0m \u001b[0mcache_array\u001b[0m\u001b[0;34m\u001b[0m\u001b[0;34m\u001b[0m\u001b[0m\n",
            "\u001b[0;32m/usr/local/lib/python3.6/dist-packages/pandas/core/tools/datetimes.py\u001b[0m in \u001b[0;36m_convert_listlike_datetimes\u001b[0;34m(arg, box, format, name, tz, unit, errors, infer_datetime_format, dayfirst, yearfirst, exact)\u001b[0m\n\u001b[1;32m    449\u001b[0m                 \u001b[0;32mreturn\u001b[0m \u001b[0mDatetimeIndex\u001b[0m\u001b[0;34m.\u001b[0m\u001b[0m_simple_new\u001b[0m\u001b[0;34m(\u001b[0m\u001b[0mvalues\u001b[0m\u001b[0;34m,\u001b[0m \u001b[0mname\u001b[0m\u001b[0;34m=\u001b[0m\u001b[0mname\u001b[0m\u001b[0;34m,\u001b[0m \u001b[0mtz\u001b[0m\u001b[0;34m=\u001b[0m\u001b[0mtz\u001b[0m\u001b[0;34m)\u001b[0m\u001b[0;34m\u001b[0m\u001b[0;34m\u001b[0m\u001b[0m\n\u001b[1;32m    450\u001b[0m             \u001b[0;32mexcept\u001b[0m \u001b[0;34m(\u001b[0m\u001b[0mValueError\u001b[0m\u001b[0;34m,\u001b[0m \u001b[0mTypeError\u001b[0m\u001b[0;34m)\u001b[0m\u001b[0;34m:\u001b[0m\u001b[0;34m\u001b[0m\u001b[0;34m\u001b[0m\u001b[0m\n\u001b[0;32m--> 451\u001b[0;31m                 \u001b[0;32mraise\u001b[0m \u001b[0me\u001b[0m\u001b[0;34m\u001b[0m\u001b[0;34m\u001b[0m\u001b[0m\n\u001b[0m\u001b[1;32m    452\u001b[0m \u001b[0;34m\u001b[0m\u001b[0m\n\u001b[1;32m    453\u001b[0m     \u001b[0;32mif\u001b[0m \u001b[0mresult\u001b[0m \u001b[0;32mis\u001b[0m \u001b[0;32mNone\u001b[0m\u001b[0;34m:\u001b[0m\u001b[0;34m\u001b[0m\u001b[0;34m\u001b[0m\u001b[0m\n",
            "\u001b[0;32m/usr/local/lib/python3.6/dist-packages/pandas/core/tools/datetimes.py\u001b[0m in \u001b[0;36m_convert_listlike_datetimes\u001b[0;34m(arg, box, format, name, tz, unit, errors, infer_datetime_format, dayfirst, yearfirst, exact)\u001b[0m\n\u001b[1;32m    414\u001b[0m                 \u001b[0;32mtry\u001b[0m\u001b[0;34m:\u001b[0m\u001b[0;34m\u001b[0m\u001b[0;34m\u001b[0m\u001b[0m\n\u001b[1;32m    415\u001b[0m                     result, timezones = array_strptime(\n\u001b[0;32m--> 416\u001b[0;31m                         \u001b[0marg\u001b[0m\u001b[0;34m,\u001b[0m \u001b[0mformat\u001b[0m\u001b[0;34m,\u001b[0m \u001b[0mexact\u001b[0m\u001b[0;34m=\u001b[0m\u001b[0mexact\u001b[0m\u001b[0;34m,\u001b[0m \u001b[0merrors\u001b[0m\u001b[0;34m=\u001b[0m\u001b[0merrors\u001b[0m\u001b[0;34m\u001b[0m\u001b[0;34m\u001b[0m\u001b[0m\n\u001b[0m\u001b[1;32m    417\u001b[0m                     )\n\u001b[1;32m    418\u001b[0m                     \u001b[0;32mif\u001b[0m \u001b[0;34m\"%Z\"\u001b[0m \u001b[0;32min\u001b[0m \u001b[0mformat\u001b[0m \u001b[0;32mor\u001b[0m \u001b[0;34m\"%z\"\u001b[0m \u001b[0;32min\u001b[0m \u001b[0mformat\u001b[0m\u001b[0;34m:\u001b[0m\u001b[0;34m\u001b[0m\u001b[0;34m\u001b[0m\u001b[0m\n",
            "\u001b[0;32mpandas/_libs/tslibs/strptime.pyx\u001b[0m in \u001b[0;36mpandas._libs.tslibs.strptime.array_strptime\u001b[0;34m()\u001b[0m\n",
            "\u001b[0;31mValueError\u001b[0m: time data '0' does not match format '%Y' (match)"
          ]
        }
      ]
    },
    {
      "cell_type": "markdown",
      "metadata": {
        "id": "ouA1OvNs0PeZ",
        "colab_type": "text"
      },
      "source": [
        "# Datetime Conversions \n",
        "\n",
        "- This does NOT work "
      ]
    },
    {
      "cell_type": "code",
      "metadata": {
        "id": "kJEzJKYu0NBj",
        "colab_type": "code",
        "colab": {}
      },
      "source": [
        "#Train dtype datetime conversion\n",
        "\n",
        "df_values['construction_year'] = pd.to_datetime(df_values['construction_year'], exact=True)\n",
        "df_values['date_recorded'] = pd.to_datetime(df_values['date_recorded'], exact=True)"
      ],
      "execution_count": 0,
      "outputs": []
    },
    {
      "cell_type": "code",
      "metadata": {
        "id": "9s-tXTf404eB",
        "colab_type": "code",
        "colab": {}
      },
      "source": [
        "#test dtype datetime conversion\n",
        "df_test_set['construction_year'] = pd.to_datetime(df_test_set['construction_year'])\n",
        "df_test_set['date_recorded'] = pd.to_datetime(df_test_set['date_recorded'])"
      ],
      "execution_count": 0,
      "outputs": []
    },
    {
      "cell_type": "code",
      "metadata": {
        "id": "lUEuGxtB07A2",
        "colab_type": "code",
        "colab": {
          "base_uri": "https://localhost:8080/",
          "height": 1000
        },
        "outputId": "595a3045-04f8-4a6a-b232-5a1ec5690094"
      },
      "source": [
        "df_values['construction_year'].value_counts()"
      ],
      "execution_count": 86,
      "outputs": [
        {
          "output_type": "execute_result",
          "data": {
            "text/plain": [
              "1970-01-01 00:00:00.000000000    20709\n",
              "1970-01-01 00:00:00.000002010     2645\n",
              "1970-01-01 00:00:00.000002008     2613\n",
              "1970-01-01 00:00:00.000002009     2533\n",
              "1970-01-01 00:00:00.000002000     2091\n",
              "1970-01-01 00:00:00.000002007     1587\n",
              "1970-01-01 00:00:00.000002006     1471\n",
              "1970-01-01 00:00:00.000002003     1286\n",
              "1970-01-01 00:00:00.000002011     1256\n",
              "1970-01-01 00:00:00.000002004     1123\n",
              "1970-01-01 00:00:00.000002012     1084\n",
              "1970-01-01 00:00:00.000002002     1075\n",
              "1970-01-01 00:00:00.000001978     1037\n",
              "1970-01-01 00:00:00.000001995     1014\n",
              "1970-01-01 00:00:00.000002005     1011\n",
              "1970-01-01 00:00:00.000001999      979\n",
              "1970-01-01 00:00:00.000001998      966\n",
              "1970-01-01 00:00:00.000001990      954\n",
              "1970-01-01 00:00:00.000001985      945\n",
              "1970-01-01 00:00:00.000001980      811\n",
              "1970-01-01 00:00:00.000001996      811\n",
              "1970-01-01 00:00:00.000001984      779\n",
              "1970-01-01 00:00:00.000001982      744\n",
              "1970-01-01 00:00:00.000001994      738\n",
              "1970-01-01 00:00:00.000001972      708\n",
              "1970-01-01 00:00:00.000001974      676\n",
              "1970-01-01 00:00:00.000001997      644\n",
              "1970-01-01 00:00:00.000001992      640\n",
              "1970-01-01 00:00:00.000001993      608\n",
              "1970-01-01 00:00:00.000002001      540\n",
              "1970-01-01 00:00:00.000001988      521\n",
              "1970-01-01 00:00:00.000001983      488\n",
              "1970-01-01 00:00:00.000001975      437\n",
              "1970-01-01 00:00:00.000001986      434\n",
              "1970-01-01 00:00:00.000001976      414\n",
              "1970-01-01 00:00:00.000001970      411\n",
              "1970-01-01 00:00:00.000001991      324\n",
              "1970-01-01 00:00:00.000001989      316\n",
              "1970-01-01 00:00:00.000001987      302\n",
              "1970-01-01 00:00:00.000001981      238\n",
              "1970-01-01 00:00:00.000001977      202\n",
              "1970-01-01 00:00:00.000001979      192\n",
              "1970-01-01 00:00:00.000001973      184\n",
              "1970-01-01 00:00:00.000002013      176\n",
              "1970-01-01 00:00:00.000001971      145\n",
              "1970-01-01 00:00:00.000001960      102\n",
              "1970-01-01 00:00:00.000001967       88\n",
              "1970-01-01 00:00:00.000001963       85\n",
              "1970-01-01 00:00:00.000001968       77\n",
              "1970-01-01 00:00:00.000001969       59\n",
              "1970-01-01 00:00:00.000001964       40\n",
              "1970-01-01 00:00:00.000001962       30\n",
              "1970-01-01 00:00:00.000001961       21\n",
              "1970-01-01 00:00:00.000001965       19\n",
              "1970-01-01 00:00:00.000001966       17\n",
              "Name: construction_year, dtype: int64"
            ]
          },
          "metadata": {
            "tags": []
          },
          "execution_count": 86
        }
      ]
    },
    {
      "cell_type": "markdown",
      "metadata": {
        "id": "MVE5BNEq08uK",
        "colab_type": "text"
      },
      "source": [
        "# Aggregating Top 5 and converting everything else to other for columns\n",
        "- Installer\n",
        "- Funder\n",
        "- Scheme_management\n",
        "- Ward"
      ]
    },
    {
      "cell_type": "code",
      "metadata": {
        "id": "wCbYyzRZ1HKH",
        "colab_type": "code",
        "colab": {
          "base_uri": "https://localhost:8080/",
          "height": 248
        },
        "outputId": "dcd9ca6a-2c2a-4469-e6ae-b2010f6abb8a"
      },
      "source": [
        "def installer_cleaner(row):\n",
        "  \n",
        "#Goes thru each row and replaces anything not in the top 5 installers with other'\n",
        "  if row['installer'] == 'DWE':\n",
        "    return 'DWE'\n",
        "  elif row['installer'] == 'Government':\n",
        "    return 'Danida'\n",
        "  elif row['installer'] == 'RWE':\n",
        "    return 'RWE'\n",
        "  elif row['installer'] == 'Commu':\n",
        "    return 'Commu'\n",
        "  elif row['installer'] == 'DANIDA':\n",
        "    return 'DANIDA'\n",
        "  else:\n",
        "    return 'other'\n",
        "\n",
        "#run formula \n",
        "df_values['installer'] = df_values.apply(lambda row: installer_cleaner(row), axis=1) \n",
        "df_test_set['installer'] = df_test_set.apply(lambda row: installer_cleaner(row), axis=1)\n",
        "\n",
        "#Unit Test\n",
        "df_values['installer'].value_counts(), df_test_set['installer'].value_counts()"
      ],
      "execution_count": 87,
      "outputs": [
        {
          "output_type": "execute_result",
          "data": {
            "text/plain": [
              "(other     36857\n",
              " DWE       17402\n",
              " Danida     1825\n",
              " RWE        1206\n",
              " Commu      1060\n",
              " DANIDA     1050\n",
              " Name: installer, dtype: int64, other     9210\n",
              " DWE       4349\n",
              " Danida     457\n",
              " RWE        292\n",
              " Commu      287\n",
              " DANIDA     255\n",
              " Name: installer, dtype: int64)"
            ]
          },
          "metadata": {
            "tags": []
          },
          "execution_count": 87
        }
      ]
    },
    {
      "cell_type": "code",
      "metadata": {
        "id": "v281qxAz1Nm9",
        "colab_type": "code",
        "colab": {
          "base_uri": "https://localhost:8080/",
          "height": 248
        },
        "outputId": "bce60a1f-8ac2-4b17-a9ae-1ab0756e3991"
      },
      "source": [
        "def funder_cleaner(row):  \n",
        "  #Same as before but for funders\n",
        "\n",
        "    if row['funder']=='Government Of Tanzania':\n",
        "        return 'Government of Tanzania'\n",
        "    elif row['funder']=='Danida':\n",
        "        return 'Danida'\n",
        "    elif row['funder']=='Hesawa':\n",
        "        return 'Hesawa'\n",
        "    elif row['funder']=='Rwssp':\n",
        "        return 'Rwssp'\n",
        "    elif row['funder']=='World Bank':\n",
        "        return 'World_Bank'    \n",
        "    else:\n",
        "        return 'other'\n",
        "\n",
        "#run formulas \n",
        "df_values['funder'] = df_values.apply(lambda row: funder_cleaner(row), axis=1)\n",
        "df_test_set['funder'] = df_test_set.apply(lambda row: funder_cleaner(row), axis=1)\n",
        "\n",
        "#Unit Test\n",
        "df_values['funder'].value_counts(), df_test_set['funder'].value_counts()"
      ],
      "execution_count": 88,
      "outputs": [
        {
          "output_type": "execute_result",
          "data": {
            "text/plain": [
              "(other                     42277\n",
              " Government of Tanzania     9084\n",
              " Danida                     3114\n",
              " Hesawa                     2202\n",
              " Rwssp                      1374\n",
              " World_Bank                 1349\n",
              " Name: funder, dtype: int64, other                     10581\n",
              " Government of Tanzania     2215\n",
              " Danida                      793\n",
              " Hesawa                      580\n",
              " World_Bank                  352\n",
              " Rwssp                       329\n",
              " Name: funder, dtype: int64)"
            ]
          },
          "metadata": {
            "tags": []
          },
          "execution_count": 88
        }
      ]
    },
    {
      "cell_type": "code",
      "metadata": {
        "id": "yz4K9Ftk1Vgf",
        "colab_type": "code",
        "colab": {
          "base_uri": "https://localhost:8080/",
          "height": 248
        },
        "outputId": "bbac8f64-6026-458e-cc4c-89d4a4741477"
      },
      "source": [
        "def scheme_management_cleaner(row):  \n",
        "  #Same as before but for funders\n",
        "\n",
        "    if row['scheme_management']=='VWC':\n",
        "        return 'VWC'\n",
        "    elif row['scheme_management']=='WUG':\n",
        "        return 'WUG'\n",
        "    elif row['scheme_management']=='Water authority':\n",
        "        return 'Water authority'\n",
        "    elif row['scheme_management']=='WUA':\n",
        "        return 'WUA'\n",
        "    elif row['scheme_management']=='Water Board':\n",
        "        return 'Water Board'    \n",
        "    else:\n",
        "        return 'other'\n",
        "\n",
        "#run formulas \n",
        "df_values['scheme_management'] = df_values.apply(lambda row: scheme_management_cleaner(row), axis=1)\n",
        "df_test_set['scheme_management'] = df_test_set.apply(lambda row: scheme_management_cleaner(row), axis=1)\n",
        "\n",
        "df_values['scheme_management'].value_counts(), df_test_set['scheme_management'].value_counts()"
      ],
      "execution_count": 89,
      "outputs": [
        {
          "output_type": "execute_result",
          "data": {
            "text/plain": [
              "(VWC                36793\n",
              " other               8617\n",
              " WUG                 5206\n",
              " Water authority     3153\n",
              " WUA                 2883\n",
              " Water Board         2748\n",
              " Name: scheme_management, dtype: int64, VWC                9124\n",
              " other              2232\n",
              " WUG                1290\n",
              " Water authority     822\n",
              " Water Board         714\n",
              " WUA                 668\n",
              " Name: scheme_management, dtype: int64)"
            ]
          },
          "metadata": {
            "tags": []
          },
          "execution_count": 89
        }
      ]
    },
    {
      "cell_type": "code",
      "metadata": {
        "id": "LvmWOkHw1Zja",
        "colab_type": "code",
        "colab": {
          "base_uri": "https://localhost:8080/",
          "height": 426
        },
        "outputId": "abb1d5cc-89ab-44ba-9444-c452b0012b18"
      },
      "source": [
        "def ward_cleaner(row):  \n",
        "  #Same as before but for funders\n",
        "\n",
        "    if row['ward']=='Igosi':\n",
        "        return 'Igosi'\n",
        "    elif row['ward']=='Imalinyi':\n",
        "        return 'Imalinyi'\n",
        "    elif row['ward']=='Siha Kati':\n",
        "        return 'Siha Kati'\n",
        "    elif row['ward']=='Mdandu':\n",
        "        return 'Mdandu'\n",
        "    elif row['ward']=='Nduruma':\n",
        "        return 'Nduruma'    \n",
        "    else:\n",
        "        return 'other'\n",
        "\n",
        "#run formulas \n",
        "df_values['scheme_management'] = df_values.apply(lambda row: ward_cleaner(row), axis=1)\n",
        "df_test_set['scheme_management'] = df_test_set.apply(lambda row: ward_cleaner(row), axis=1)\n",
        "\n",
        "df_values['ward'].value_counts(), df_test_set['ward'].value_counts()"
      ],
      "execution_count": 90,
      "outputs": [
        {
          "output_type": "execute_result",
          "data": {
            "text/plain": [
              "(Igosi        307\n",
              " Imalinyi     252\n",
              " Siha Kati    232\n",
              " Mdandu       231\n",
              " Nduruma      217\n",
              "             ... \n",
              " Simbay         1\n",
              " Matarawe       1\n",
              " Chinugulu      1\n",
              " Igogo          1\n",
              " Kirongo        1\n",
              " Name: ward, Length: 2092, dtype: int64, Igosi        79\n",
              " Imalinyi     66\n",
              " Siha Kati    65\n",
              " Mdandu       61\n",
              " Kitunda      57\n",
              "              ..\n",
              " Kikubiji      1\n",
              " Mwalugulu     1\n",
              " Kibasuka      1\n",
              " Ishunju       1\n",
              " Magengeni     1\n",
              " Name: ward, Length: 1959, dtype: int64)"
            ]
          },
          "metadata": {
            "tags": []
          },
          "execution_count": 90
        }
      ]
    },
    {
      "cell_type": "markdown",
      "metadata": {
        "id": "NX6557rw1pE4",
        "colab_type": "text"
      },
      "source": [
        "# Null Treatements & Imputations\n",
        "- Public meeting\n",
        "- Permit"
      ]
    },
    {
      "cell_type": "code",
      "metadata": {
        "id": "_VwhHXEh10cp",
        "colab_type": "code",
        "colab": {}
      },
      "source": [
        "#Train Set\n",
        "df_values['public_meeting'] = df_values['public_meeting'].fillna('Unknown')\n",
        "df_values['permit'] = df_values['permit'].fillna('Unknown')\n",
        "\n",
        "#Test Set\n",
        "df_test_set['public_meeting'] = df_values['public_meeting'].fillna('Unknown')\n",
        "df_test_set['permit'] = df_values['permit'].fillna('Unknown')"
      ],
      "execution_count": 0,
      "outputs": []
    },
    {
      "cell_type": "code",
      "metadata": {
        "id": "r4NVH51p3BVg",
        "colab_type": "code",
        "colab": {}
      },
      "source": [
        "df_values.drop(columns=['subvillage', 'scheme_name'], inplace=True)"
      ],
      "execution_count": 0,
      "outputs": []
    },
    {
      "cell_type": "code",
      "metadata": {
        "id": "xHqqm4vs3QE7",
        "colab_type": "code",
        "colab": {}
      },
      "source": [
        "df_test_set.drop(columns=['subvillage', 'scheme_name'], inplace=True)"
      ],
      "execution_count": 0,
      "outputs": []
    },
    {
      "cell_type": "code",
      "metadata": {
        "id": "eAyVQgFc12X8",
        "colab_type": "code",
        "colab": {
          "base_uri": "https://localhost:8080/",
          "height": 1000
        },
        "outputId": "674ed7b0-de21-4ef6-d3ba-37acf7610bcf"
      },
      "source": [
        "#Unit Test \n",
        "df_values.isna().sum(), df_test_set.isna().sum()"
      ],
      "execution_count": 94,
      "outputs": [
        {
          "output_type": "execute_result",
          "data": {
            "text/plain": [
              "(id                       0\n",
              " amount_tsh               0\n",
              " date_recorded            0\n",
              " funder                   0\n",
              " gps_height               0\n",
              " installer                0\n",
              " longitude                0\n",
              " latitude                 0\n",
              " wpt_name                 0\n",
              " num_private              0\n",
              " basin                    0\n",
              " region                   0\n",
              " region_code              0\n",
              " district_code            0\n",
              " lga                      0\n",
              " ward                     0\n",
              " population               0\n",
              " public_meeting           0\n",
              " recorded_by              0\n",
              " scheme_management        0\n",
              " permit                   0\n",
              " construction_year        0\n",
              " extraction_type          0\n",
              " extraction_type_group    0\n",
              " extraction_type_class    0\n",
              " management               0\n",
              " management_group         0\n",
              " payment                  0\n",
              " payment_type             0\n",
              " water_quality            0\n",
              " quality_group            0\n",
              " quantity                 0\n",
              " quantity_group           0\n",
              " source                   0\n",
              " source_type              0\n",
              " source_class             0\n",
              " waterpoint_type          0\n",
              " waterpoint_type_group    0\n",
              " dtype: int64, id                       0\n",
              " amount_tsh               0\n",
              " date_recorded            0\n",
              " funder                   0\n",
              " gps_height               0\n",
              " installer                0\n",
              " longitude                0\n",
              " latitude                 0\n",
              " wpt_name                 0\n",
              " num_private              0\n",
              " basin                    0\n",
              " region                   0\n",
              " region_code              0\n",
              " district_code            0\n",
              " lga                      0\n",
              " ward                     0\n",
              " population               0\n",
              " public_meeting           0\n",
              " recorded_by              0\n",
              " scheme_management        0\n",
              " permit                   0\n",
              " construction_year        0\n",
              " extraction_type          0\n",
              " extraction_type_group    0\n",
              " extraction_type_class    0\n",
              " management               0\n",
              " management_group         0\n",
              " payment                  0\n",
              " payment_type             0\n",
              " water_quality            0\n",
              " quality_group            0\n",
              " quantity                 0\n",
              " quantity_group           0\n",
              " source                   0\n",
              " source_type              0\n",
              " source_class             0\n",
              " waterpoint_type          0\n",
              " waterpoint_type_group    0\n",
              " dtype: int64)"
            ]
          },
          "metadata": {
            "tags": []
          },
          "execution_count": 94
        }
      ]
    },
    {
      "cell_type": "markdown",
      "metadata": {
        "id": "KpB23kBU3aWy",
        "colab_type": "text"
      },
      "source": [
        "# Export for Dummy Treatment "
      ]
    },
    {
      "cell_type": "code",
      "metadata": {
        "id": "4seLQQ8w3cj1",
        "colab_type": "code",
        "colab": {}
      },
      "source": [
        "#Train Export to csv\n",
        "df_values.to_csv(r'/content/drive/My Drive/tz_water_well_data/clean_train.csv', index=False)\n",
        "\n",
        "#Test export to csv \n",
        "df_test_set.to_csv(r'/content/drive/My Drive/tz_water_well_data/clean_test.csv', index=False)"
      ],
      "execution_count": 0,
      "outputs": []
    },
    {
      "cell_type": "code",
      "metadata": {
        "id": "KcFMMY7q35yW",
        "colab_type": "code",
        "colab": {}
      },
      "source": [
        ""
      ],
      "execution_count": 0,
      "outputs": []
    }
  ]
}