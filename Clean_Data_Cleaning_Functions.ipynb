{
  "nbformat": 4,
  "nbformat_minor": 0,
  "metadata": {
    "colab": {
      "name": "Clean Data Cleaning Functions.ipynb",
      "provenance": [],
      "authorship_tag": "ABX9TyNGNTWcRKjbAK3o+wK8Dqgh",
      "include_colab_link": true
    },
    "kernelspec": {
      "name": "python3",
      "display_name": "Python 3"
    }
  },
  "cells": [
    {
      "cell_type": "markdown",
      "metadata": {
        "id": "view-in-github",
        "colab_type": "text"
      },
      "source": [
        "<a href=\"https://colab.research.google.com/github/dapsavoie/tz_water_well_prediction/blob/master/Clean_Data_Cleaning_Functions.ipynb\" target=\"_parent\"><img src=\"https://colab.research.google.com/assets/colab-badge.svg\" alt=\"Open In Colab\"/></a>"
      ]
    },
    {
      "cell_type": "markdown",
      "metadata": {
        "id": "RQPpgLKas1Zu",
        "colab_type": "text"
      },
      "source": [
        "# "
      ]
    },
    {
      "cell_type": "code",
      "metadata": {
        "id": "myEpclfOi3uB",
        "colab_type": "code",
        "colab": {}
      },
      "source": [
        "import pandas as pd\n",
        "import numpy as np"
      ],
      "execution_count": 0,
      "outputs": []
    },
    {
      "cell_type": "code",
      "metadata": {
        "id": "ta5cQzcmi8KD",
        "colab_type": "code",
        "outputId": "fdc879fd-fdf9-461e-9cf0-6999b9101441",
        "colab": {
          "base_uri": "https://localhost:8080/",
          "height": 55
        }
      },
      "source": [
        "from google.colab import drive\n",
        "drive.mount('/content/drive')"
      ],
      "execution_count": 255,
      "outputs": [
        {
          "output_type": "stream",
          "text": [
            "Drive already mounted at /content/drive; to attempt to forcibly remount, call drive.mount(\"/content/drive\", force_remount=True).\n"
          ],
          "name": "stdout"
        }
      ]
    },
    {
      "cell_type": "code",
      "metadata": {
        "id": "2232boA-i9SC",
        "colab_type": "code",
        "colab": {}
      },
      "source": [
        "df_values = pd.read_csv('/content/drive/My Drive/tz_water_well_data/training_set_labels.csv')\n",
        "df_labels = pd.read_csv('/content/drive/My Drive/tz_water_well_data/training_set_values.csv')\n",
        "df_test_set = pd.read_csv('/content/drive/My Drive/tz_water_well_data/test_set_values.csv')"
      ],
      "execution_count": 0,
      "outputs": []
    },
    {
      "cell_type": "markdown",
      "metadata": {
        "id": "eB9Ghf0Rp2QZ",
        "colab_type": "text"
      },
      "source": [
        "# Datetimes Conversion"
      ]
    },
    {
      "cell_type": "code",
      "metadata": {
        "id": "AZo5nepRjC_a",
        "colab_type": "code",
        "colab": {}
      },
      "source": [
        "def datetimes(data):\n",
        "\n",
        "  #Update datetimes\n",
        "  data['construction_year'] = pd.to_datetime(data['construction_year'])\n",
        "\n",
        "  return data"
      ],
      "execution_count": 0,
      "outputs": []
    },
    {
      "cell_type": "code",
      "metadata": {
        "id": "Fo5PfB0vjPFX",
        "colab_type": "code",
        "colab": {}
      },
      "source": [
        "#train dtype datetime conversion\n",
        "df_values['construction_year'] = pd.to_datetime(df_values['construction_year'])\n",
        "df_values['date_recorded'] = pd.to_datetime(df_values['date_recorded'])"
      ],
      "execution_count": 0,
      "outputs": []
    },
    {
      "cell_type": "code",
      "metadata": {
        "id": "FBe4_PgKjRsd",
        "colab_type": "code",
        "colab": {}
      },
      "source": [
        "#test dtype datetime conversion\n",
        "df_test_set['construction_year'] = pd.to_datetime(df_test_set['construction_year'])\n",
        "df_test_set['date_recorded'] = pd.to_datetime(df_test_set['date_recorded'])"
      ],
      "execution_count": 0,
      "outputs": []
    },
    {
      "cell_type": "code",
      "metadata": {
        "id": "29sCyQsVoYVD",
        "colab_type": "code",
        "colab": {}
      },
      "source": [
        ""
      ],
      "execution_count": 0,
      "outputs": []
    },
    {
      "cell_type": "markdown",
      "metadata": {
        "id": "9P5HXEbZp-AI",
        "colab_type": "text"
      },
      "source": [
        "# Cleaning Installer, Funder, Scheme Management rows "
      ]
    },
    {
      "cell_type": "code",
      "metadata": {
        "id": "dN6H2H2TqF5f",
        "colab_type": "code",
        "colab": {}
      },
      "source": [
        "def installer_cleaner(row):\n",
        "  \n",
        "#Goes thru each row and replaces anything not in the top 5 installers with other'\n",
        "  if row['installer'] == 'DWE':\n",
        "    return 'DWE'\n",
        "  elif row['installer'] == 'Government':\n",
        "    return 'Danida'\n",
        "  elif row['installer'] == 'RWE':\n",
        "    return 'RWE'\n",
        "  elif row['installer'] == 'Commu':\n",
        "    return 'Commu'\n",
        "  elif row['installer'] == 'DANIDA':\n",
        "    return 'DANIDA'\n",
        "  else:\n",
        "    return 'other'\n",
        "\n",
        "#run formula \n",
        "df_values['installer'] = df_values.apply(lambda row: installer_cleaner(row), axis=1) \n",
        "df_test_set['installer'] = df_test_set.apply(lambda row: installer_cleaner(row), axis=1)"
      ],
      "execution_count": 0,
      "outputs": []
    },
    {
      "cell_type": "code",
      "metadata": {
        "id": "Nz3JBu5Pq2p1",
        "colab_type": "code",
        "colab": {
          "base_uri": "https://localhost:8080/",
          "height": 248
        },
        "outputId": "f9765b93-cc55-4f9e-f947-570e415462ea"
      },
      "source": [
        "df_values['installer'].value_counts(), df_test_set['installer'].value_counts()"
      ],
      "execution_count": 261,
      "outputs": [
        {
          "output_type": "execute_result",
          "data": {
            "text/plain": [
              "(other     36857\n",
              " DWE       17402\n",
              " Danida     1825\n",
              " RWE        1206\n",
              " Commu      1060\n",
              " DANIDA     1050\n",
              " Name: installer, dtype: int64, other     9210\n",
              " DWE       4349\n",
              " Danida     457\n",
              " RWE        292\n",
              " Commu      287\n",
              " DANIDA     255\n",
              " Name: installer, dtype: int64)"
            ]
          },
          "metadata": {
            "tags": []
          },
          "execution_count": 261
        }
      ]
    },
    {
      "cell_type": "code",
      "metadata": {
        "id": "R8KOq6uuqQxk",
        "colab_type": "code",
        "colab": {}
      },
      "source": [
        "def funder_cleaner(row):  \n",
        "  #Same as before but for funders\n",
        "\n",
        "    if row['funder']=='Government Of Tanzania':\n",
        "        return 'Government of Tanzania'\n",
        "    elif row['funder']=='Danida':\n",
        "        return 'Danida'\n",
        "    elif row['funder']=='Hesawa':\n",
        "        return 'Hesawa'\n",
        "    elif row['funder']=='Rwssp':\n",
        "        return 'Rwssp'\n",
        "    elif row['funder']=='World Bank':\n",
        "        return 'World_Bank'    \n",
        "    else:\n",
        "        return 'other'\n",
        "\n",
        "#run formulas \n",
        "df_values['funder'] = df_values.apply(lambda row: funder_cleaner(row), axis=1)\n",
        "df_test_set['funder'] = df_test_set.apply(lambda row: funder_cleaner(row), axis=1)"
      ],
      "execution_count": 0,
      "outputs": []
    },
    {
      "cell_type": "code",
      "metadata": {
        "id": "jOAj9QPvrH2H",
        "colab_type": "code",
        "colab": {
          "base_uri": "https://localhost:8080/",
          "height": 248
        },
        "outputId": "e82d4a30-4e2b-49bb-e594-9c0b1aa101ba"
      },
      "source": [
        "df_values['funder'].value_counts(), df_test_set['funder'].value_counts()"
      ],
      "execution_count": 263,
      "outputs": [
        {
          "output_type": "execute_result",
          "data": {
            "text/plain": [
              "(other                     42277\n",
              " Government of Tanzania     9084\n",
              " Danida                     3114\n",
              " Hesawa                     2202\n",
              " Rwssp                      1374\n",
              " World_Bank                 1349\n",
              " Name: funder, dtype: int64, other                     10581\n",
              " Government of Tanzania     2215\n",
              " Danida                      793\n",
              " Hesawa                      580\n",
              " World_Bank                  352\n",
              " Rwssp                       329\n",
              " Name: funder, dtype: int64)"
            ]
          },
          "metadata": {
            "tags": []
          },
          "execution_count": 263
        }
      ]
    },
    {
      "cell_type": "code",
      "metadata": {
        "id": "lDl7bSgSqgzI",
        "colab_type": "code",
        "colab": {}
      },
      "source": [
        "def scheme_management_cleaner(row):  \n",
        "  #Same as before but for funders\n",
        "\n",
        "    if row['scheme_management']=='VWC':\n",
        "        return 'VWC'\n",
        "    elif row['scheme_management']=='WUG':\n",
        "        return 'WUG'\n",
        "    elif row['scheme_management']=='Water authority':\n",
        "        return 'Water authority'\n",
        "    elif row['scheme_management']=='WUA':\n",
        "        return 'WUA'\n",
        "    elif row['scheme_management']=='Water Board':\n",
        "        return 'Water Board'    \n",
        "    else:\n",
        "        return 'other'\n",
        "\n",
        "#run formulas \n",
        "df_values['scheme_management'] = df_values.apply(lambda row: scheme_management_cleaner(row), axis=1)\n",
        "df_test_set['scheme_management'] = df_test_set.apply(lambda row: scheme_management_cleaner(row), axis=1)"
      ],
      "execution_count": 0,
      "outputs": []
    },
    {
      "cell_type": "code",
      "metadata": {
        "id": "g802uxVMqz1F",
        "colab_type": "code",
        "colab": {
          "base_uri": "https://localhost:8080/",
          "height": 248
        },
        "outputId": "3bc43c98-a154-4914-b78f-903da85d8591"
      },
      "source": [
        "df_values['scheme_management'].value_counts(), df_test_set['scheme_management'].value_counts()"
      ],
      "execution_count": 265,
      "outputs": [
        {
          "output_type": "execute_result",
          "data": {
            "text/plain": [
              "(VWC                36793\n",
              " other               8617\n",
              " WUG                 5206\n",
              " Water authority     3153\n",
              " WUA                 2883\n",
              " Water Board         2748\n",
              " Name: scheme_management, dtype: int64, VWC                9124\n",
              " other              2232\n",
              " WUG                1290\n",
              " Water authority     822\n",
              " Water Board         714\n",
              " WUA                 668\n",
              " Name: scheme_management, dtype: int64)"
            ]
          },
          "metadata": {
            "tags": []
          },
          "execution_count": 265
        }
      ]
    },
    {
      "cell_type": "code",
      "metadata": {
        "id": "BUqTGnHPr-uQ",
        "colab_type": "code",
        "colab": {}
      },
      "source": [
        ""
      ],
      "execution_count": 0,
      "outputs": []
    },
    {
      "cell_type": "markdown",
      "metadata": {
        "id": "SMWFoG_5znbN",
        "colab_type": "text"
      },
      "source": [
        "# Null Treatment & Ward Cleaner"
      ]
    },
    {
      "cell_type": "code",
      "metadata": {
        "id": "J9HxNCZjzqF-",
        "colab_type": "code",
        "colab": {}
      },
      "source": [
        "#Train Set\n",
        "df_values['public_meeting'] = df_values['public_meeting'].fillna('Unknown')\n",
        "df_values['permit'] = df_values['permit'].fillna('Unknown')\n",
        "\n",
        "#Test Set\n",
        "df_test_set['public_meeting'] = df_values['public_meeting'].fillna('Unknown')\n",
        "df_test_set['permit'] = df_values['permit'].fillna('Unknown')"
      ],
      "execution_count": 0,
      "outputs": []
    },
    {
      "cell_type": "code",
      "metadata": {
        "id": "GpF9iG5g0Z5S",
        "colab_type": "code",
        "colab": {
          "base_uri": "https://localhost:8080/",
          "height": 230
        },
        "outputId": "e7173628-a055-4e60-b2b7-2d76ad755451"
      },
      "source": [
        "df_values['ward'].value_counts()"
      ],
      "execution_count": 267,
      "outputs": [
        {
          "output_type": "execute_result",
          "data": {
            "text/plain": [
              "Igosi        307\n",
              "Imalinyi     252\n",
              "Siha Kati    232\n",
              "Mdandu       231\n",
              "Nduruma      217\n",
              "            ... \n",
              "Thawi          1\n",
              "Ikweha         1\n",
              "Simbay         1\n",
              "Rasbura        1\n",
              "Mitole         1\n",
              "Name: ward, Length: 2092, dtype: int64"
            ]
          },
          "metadata": {
            "tags": []
          },
          "execution_count": 267
        }
      ]
    },
    {
      "cell_type": "code",
      "metadata": {
        "id": "b7W9sw_V0e0M",
        "colab_type": "code",
        "colab": {}
      },
      "source": [
        "def ward_cleaner(row):  \n",
        "  #Same as before but for funders\n",
        "\n",
        "    if row['ward']=='Igosi':\n",
        "        return 'Igosi'\n",
        "    elif row['ward']=='Imalinyi':\n",
        "        return 'Imalinyi'\n",
        "    elif row['ward']=='Siha Kati':\n",
        "        return 'Siha Kati'\n",
        "    elif row['ward']=='Mdandu':\n",
        "        return 'Mdandu'\n",
        "    elif row['ward']=='Nduruma':\n",
        "        return 'Nduruma'    \n",
        "    else:\n",
        "        return 'other'\n",
        "\n",
        "#run formulas \n",
        "df_values['scheme_management'] = df_values.apply(lambda row: ward_cleaner(row), axis=1)\n",
        "df_test_set['scheme_management'] = df_test_set.apply(lambda row: ward_cleaner(row), axis=1)"
      ],
      "execution_count": 0,
      "outputs": []
    },
    {
      "cell_type": "code",
      "metadata": {
        "id": "yIcHfYAU0oaW",
        "colab_type": "code",
        "colab": {
          "base_uri": "https://localhost:8080/",
          "height": 248
        },
        "outputId": "c0046b4b-5d9c-4181-84ab-5fad804230c9"
      },
      "source": [
        "df_values['scheme_management'].value_counts(), df_test_set['scheme_management'].value_counts()"
      ],
      "execution_count": 269,
      "outputs": [
        {
          "output_type": "execute_result",
          "data": {
            "text/plain": [
              "(other        58161\n",
              " Igosi          307\n",
              " Imalinyi       252\n",
              " Siha Kati      232\n",
              " Mdandu         231\n",
              " Nduruma        217\n",
              " Name: scheme_management, dtype: int64, other        14535\n",
              " Igosi           79\n",
              " Imalinyi        66\n",
              " Siha Kati       65\n",
              " Mdandu          61\n",
              " Nduruma         44\n",
              " Name: scheme_management, dtype: int64)"
            ]
          },
          "metadata": {
            "tags": []
          },
          "execution_count": 269
        }
      ]
    },
    {
      "cell_type": "code",
      "metadata": {
        "id": "Cq2apmn47uc-",
        "colab_type": "code",
        "colab": {
          "base_uri": "https://localhost:8080/",
          "height": 1000
        },
        "outputId": "553bffce-47d5-4070-d1c8-ea0cbf6f0b7a"
      },
      "source": [
        "df_values.isna().sum(), df_test_set.isna().sum()"
      ],
      "execution_count": 270,
      "outputs": [
        {
          "output_type": "execute_result",
          "data": {
            "text/plain": [
              "(id                           0\n",
              " amount_tsh                   0\n",
              " date_recorded                0\n",
              " funder                       0\n",
              " gps_height                   0\n",
              " installer                    0\n",
              " longitude                    0\n",
              " latitude                     0\n",
              " wpt_name                     0\n",
              " num_private                  0\n",
              " basin                        0\n",
              " subvillage                 371\n",
              " region                       0\n",
              " region_code                  0\n",
              " district_code                0\n",
              " lga                          0\n",
              " ward                         0\n",
              " population                   0\n",
              " public_meeting               0\n",
              " recorded_by                  0\n",
              " scheme_management            0\n",
              " scheme_name              28166\n",
              " permit                       0\n",
              " construction_year            0\n",
              " extraction_type              0\n",
              " extraction_type_group        0\n",
              " extraction_type_class        0\n",
              " management                   0\n",
              " management_group             0\n",
              " payment                      0\n",
              " payment_type                 0\n",
              " water_quality                0\n",
              " quality_group                0\n",
              " quantity                     0\n",
              " quantity_group               0\n",
              " source                       0\n",
              " source_type                  0\n",
              " source_class                 0\n",
              " waterpoint_type              0\n",
              " waterpoint_type_group        0\n",
              " dtype: int64, id                          0\n",
              " amount_tsh                  0\n",
              " date_recorded               0\n",
              " funder                      0\n",
              " gps_height                  0\n",
              " installer                   0\n",
              " longitude                   0\n",
              " latitude                    0\n",
              " wpt_name                    0\n",
              " num_private                 0\n",
              " basin                       0\n",
              " subvillage                 99\n",
              " region                      0\n",
              " region_code                 0\n",
              " district_code               0\n",
              " lga                         0\n",
              " ward                        0\n",
              " population                  0\n",
              " public_meeting              0\n",
              " recorded_by                 0\n",
              " scheme_management           0\n",
              " scheme_name              7092\n",
              " permit                      0\n",
              " construction_year           0\n",
              " extraction_type             0\n",
              " extraction_type_group       0\n",
              " extraction_type_class       0\n",
              " management                  0\n",
              " management_group            0\n",
              " payment                     0\n",
              " payment_type                0\n",
              " water_quality               0\n",
              " quality_group               0\n",
              " quantity                    0\n",
              " quantity_group              0\n",
              " source                      0\n",
              " source_type                 0\n",
              " source_class                0\n",
              " waterpoint_type             0\n",
              " waterpoint_type_group       0\n",
              " dtype: int64)"
            ]
          },
          "metadata": {
            "tags": []
          },
          "execution_count": 270
        }
      ]
    },
    {
      "cell_type": "code",
      "metadata": {
        "id": "V461Kk0B9xs_",
        "colab_type": "code",
        "colab": {
          "base_uri": "https://localhost:8080/",
          "height": 1000
        },
        "outputId": "f58c0a37-c3b1-4b66-c697-d1a20afc8c66"
      },
      "source": [
        "#Need to drop sub-village and scheme_name \n",
        "\n",
        "df_values.drop(columns=['subvillage', 'scheme_name', 'wpt_name', 'ward', 'date_recorded', 'construction_year', 'longitude', 'latitude'], inplace=True)\n",
        "df_test_set.drop(columns=['subvillage', 'scheme_name', 'wpt_name', 'ward', 'date_recorded', 'construction_year', 'longitude', 'latitude'], inplace=True)\n",
        "\n",
        "df_values.isna().sum(), df_test_set.isna().sum()"
      ],
      "execution_count": 271,
      "outputs": [
        {
          "output_type": "execute_result",
          "data": {
            "text/plain": [
              "(id                       0\n",
              " amount_tsh               0\n",
              " funder                   0\n",
              " gps_height               0\n",
              " installer                0\n",
              " num_private              0\n",
              " basin                    0\n",
              " region                   0\n",
              " region_code              0\n",
              " district_code            0\n",
              " lga                      0\n",
              " population               0\n",
              " public_meeting           0\n",
              " recorded_by              0\n",
              " scheme_management        0\n",
              " permit                   0\n",
              " extraction_type          0\n",
              " extraction_type_group    0\n",
              " extraction_type_class    0\n",
              " management               0\n",
              " management_group         0\n",
              " payment                  0\n",
              " payment_type             0\n",
              " water_quality            0\n",
              " quality_group            0\n",
              " quantity                 0\n",
              " quantity_group           0\n",
              " source                   0\n",
              " source_type              0\n",
              " source_class             0\n",
              " waterpoint_type          0\n",
              " waterpoint_type_group    0\n",
              " dtype: int64, id                       0\n",
              " amount_tsh               0\n",
              " funder                   0\n",
              " gps_height               0\n",
              " installer                0\n",
              " num_private              0\n",
              " basin                    0\n",
              " region                   0\n",
              " region_code              0\n",
              " district_code            0\n",
              " lga                      0\n",
              " population               0\n",
              " public_meeting           0\n",
              " recorded_by              0\n",
              " scheme_management        0\n",
              " permit                   0\n",
              " extraction_type          0\n",
              " extraction_type_group    0\n",
              " extraction_type_class    0\n",
              " management               0\n",
              " management_group         0\n",
              " payment                  0\n",
              " payment_type             0\n",
              " water_quality            0\n",
              " quality_group            0\n",
              " quantity                 0\n",
              " quantity_group           0\n",
              " source                   0\n",
              " source_type              0\n",
              " source_class             0\n",
              " waterpoint_type          0\n",
              " waterpoint_type_group    0\n",
              " dtype: int64)"
            ]
          },
          "metadata": {
            "tags": []
          },
          "execution_count": 271
        }
      ]
    },
    {
      "cell_type": "code",
      "metadata": {
        "id": "ncWMrsoc_F5i",
        "colab_type": "code",
        "colab": {
          "base_uri": "https://localhost:8080/",
          "height": 35
        },
        "outputId": "863f8314-080e-46d0-ce8b-16afe2f81634"
      },
      "source": [
        "df_values.shape, df_test_set.shape"
      ],
      "execution_count": 272,
      "outputs": [
        {
          "output_type": "execute_result",
          "data": {
            "text/plain": [
              "((59400, 32), (14850, 32))"
            ]
          },
          "metadata": {
            "tags": []
          },
          "execution_count": 272
        }
      ]
    },
    {
      "cell_type": "code",
      "metadata": {
        "id": "wW_taqceBG_1",
        "colab_type": "code",
        "colab": {
          "base_uri": "https://localhost:8080/",
          "height": 604
        },
        "outputId": "400431ba-edf2-4129-f65e-207372a5d602"
      },
      "source": [
        "df_values.dtypes"
      ],
      "execution_count": 273,
      "outputs": [
        {
          "output_type": "execute_result",
          "data": {
            "text/plain": [
              "id                         int64\n",
              "amount_tsh               float64\n",
              "funder                    object\n",
              "gps_height                 int64\n",
              "installer                 object\n",
              "num_private                int64\n",
              "basin                     object\n",
              "region                    object\n",
              "region_code                int64\n",
              "district_code              int64\n",
              "lga                       object\n",
              "population                 int64\n",
              "public_meeting            object\n",
              "recorded_by               object\n",
              "scheme_management         object\n",
              "permit                    object\n",
              "extraction_type           object\n",
              "extraction_type_group     object\n",
              "extraction_type_class     object\n",
              "management                object\n",
              "management_group          object\n",
              "payment                   object\n",
              "payment_type              object\n",
              "water_quality             object\n",
              "quality_group             object\n",
              "quantity                  object\n",
              "quantity_group            object\n",
              "source                    object\n",
              "source_type               object\n",
              "source_class              object\n",
              "waterpoint_type           object\n",
              "waterpoint_type_group     object\n",
              "dtype: object"
            ]
          },
          "metadata": {
            "tags": []
          },
          "execution_count": 273
        }
      ]
    },
    {
      "cell_type": "markdown",
      "metadata": {
        "id": "ss4M-XGVCfn1",
        "colab_type": "text"
      },
      "source": [
        "# Dummy Variables and Final Cleaning \n"
      ]
    },
    {
      "cell_type": "code",
      "metadata": {
        "id": "TMH4kHRuC7oJ",
        "colab_type": "code",
        "colab": {
          "base_uri": "https://localhost:8080/",
          "height": 604
        },
        "outputId": "5194ec12-84dc-4eeb-d72a-1fe2b148ea27"
      },
      "source": [
        "# Create Dummiy Variables\n",
        "\n",
        "df_test_set.dtypes"
      ],
      "execution_count": 274,
      "outputs": [
        {
          "output_type": "execute_result",
          "data": {
            "text/plain": [
              "id                         int64\n",
              "amount_tsh               float64\n",
              "funder                    object\n",
              "gps_height                 int64\n",
              "installer                 object\n",
              "num_private                int64\n",
              "basin                     object\n",
              "region                    object\n",
              "region_code                int64\n",
              "district_code              int64\n",
              "lga                       object\n",
              "population                 int64\n",
              "public_meeting            object\n",
              "recorded_by               object\n",
              "scheme_management         object\n",
              "permit                    object\n",
              "extraction_type           object\n",
              "extraction_type_group     object\n",
              "extraction_type_class     object\n",
              "management                object\n",
              "management_group          object\n",
              "payment                   object\n",
              "payment_type              object\n",
              "water_quality             object\n",
              "quality_group             object\n",
              "quantity                  object\n",
              "quantity_group            object\n",
              "source                    object\n",
              "source_type               object\n",
              "source_class              object\n",
              "waterpoint_type           object\n",
              "waterpoint_type_group     object\n",
              "dtype: object"
            ]
          },
          "metadata": {
            "tags": []
          },
          "execution_count": 274
        }
      ]
    },
    {
      "cell_type": "code",
      "metadata": {
        "id": "3vxpPH3EDEfs",
        "colab_type": "code",
        "colab": {
          "base_uri": "https://localhost:8080/",
          "height": 35
        },
        "outputId": "9492cf3f-40cd-4ea4-b2f0-98528afbc99b"
      },
      "source": [
        "predictors_train = df_values.drop(columns='id')\n",
        "df_test_set = df_test_set.drop(columns='id')\n",
        "\n",
        "predictors_train.shape, df_test_set.shape "
      ],
      "execution_count": 275,
      "outputs": [
        {
          "output_type": "execute_result",
          "data": {
            "text/plain": [
              "((59400, 31), (14850, 31))"
            ]
          },
          "metadata": {
            "tags": []
          },
          "execution_count": 275
        }
      ]
    },
    {
      "cell_type": "code",
      "metadata": {
        "id": "M6mbVLJCDUrM",
        "colab_type": "code",
        "colab": {
          "base_uri": "https://localhost:8080/",
          "height": 35
        },
        "outputId": "d7f283df-5f70-46fe-d450-836e2a8ce64a"
      },
      "source": [
        "dummies = pd.get_dummies(predictors_train)\n",
        "dummies.drop(columns='extraction_type_other - mkulima/shinyanga', inplace=True)\n",
        "dummies.shape"
      ],
      "execution_count": 276,
      "outputs": [
        {
          "output_type": "execute_result",
          "data": {
            "text/plain": [
              "(59400, 311)"
            ]
          },
          "metadata": {
            "tags": []
          },
          "execution_count": 276
        }
      ]
    },
    {
      "cell_type": "code",
      "metadata": {
        "id": "6_Bh6ONSDYT9",
        "colab_type": "code",
        "colab": {
          "base_uri": "https://localhost:8080/",
          "height": 35
        },
        "outputId": "c0c7780c-94e7-449d-e1e9-6c4235fa2547"
      },
      "source": [
        "test_dummies = pd.get_dummies(df_test_set)\n",
        "test_dummies.shape"
      ],
      "execution_count": 277,
      "outputs": [
        {
          "output_type": "execute_result",
          "data": {
            "text/plain": [
              "(14850, 311)"
            ]
          },
          "metadata": {
            "tags": []
          },
          "execution_count": 277
        }
      ]
    },
    {
      "cell_type": "code",
      "metadata": {
        "id": "LuPPxPxbG9d5",
        "colab_type": "code",
        "colab": {
          "base_uri": "https://localhost:8080/",
          "height": 35
        },
        "outputId": "d23f8a92-4b7c-4b1d-870e-85bec63a77af"
      },
      "source": [
        "set(dummies.columns).symmetric_difference(test_dummies.columns)"
      ],
      "execution_count": 278,
      "outputs": [
        {
          "output_type": "execute_result",
          "data": {
            "text/plain": [
              "set()"
            ]
          },
          "metadata": {
            "tags": []
          },
          "execution_count": 278
        }
      ]
    },
    {
      "cell_type": "code",
      "metadata": {
        "id": "T-Bz7IzzJAjY",
        "colab_type": "code",
        "colab": {
          "base_uri": "https://localhost:8080/",
          "height": 230
        },
        "outputId": "7a9bfaad-ebaa-4712-9c02-d9039b5774c6"
      },
      "source": [
        "dummies.dtypes"
      ],
      "execution_count": 279,
      "outputs": [
        {
          "output_type": "execute_result",
          "data": {
            "text/plain": [
              "amount_tsh                                  float64\n",
              "gps_height                                    int64\n",
              "num_private                                   int64\n",
              "region_code                                   int64\n",
              "district_code                                 int64\n",
              "                                             ...   \n",
              "waterpoint_type_group_communal standpipe      uint8\n",
              "waterpoint_type_group_dam                     uint8\n",
              "waterpoint_type_group_hand pump               uint8\n",
              "waterpoint_type_group_improved spring         uint8\n",
              "waterpoint_type_group_other                   uint8\n",
              "Length: 311, dtype: object"
            ]
          },
          "metadata": {
            "tags": []
          },
          "execution_count": 279
        }
      ]
    },
    {
      "cell_type": "markdown",
      "metadata": {
        "id": "rYYvXpCrLJCc",
        "colab_type": "text"
      },
      "source": [
        "# Decision Tree Classifier"
      ]
    },
    {
      "cell_type": "code",
      "metadata": {
        "id": "v6OztOXhLMIn",
        "colab_type": "code",
        "colab": {}
      },
      "source": [
        "x = dummies\n",
        "y = df_labels['status_group']"
      ],
      "execution_count": 0,
      "outputs": []
    },
    {
      "cell_type": "code",
      "metadata": {
        "id": "65gm21DTLRjw",
        "colab_type": "code",
        "colab": {}
      },
      "source": [
        "from sklearn.model_selection import train_test_split\n",
        "\n",
        "data_train, data_test, target_train, target_test = train_test_split(x, y, \n",
        "                                                                    test_size = 0.25, random_state=123)"
      ],
      "execution_count": 0,
      "outputs": []
    },
    {
      "cell_type": "code",
      "metadata": {
        "id": "3Pi1WTvLMyeF",
        "colab_type": "code",
        "colab": {
          "base_uri": "https://localhost:8080/",
          "height": 230
        },
        "outputId": "91d88ec1-f921-4120-aac9-2e0bcc2af6c3"
      },
      "source": [
        "data_train.dtypes"
      ],
      "execution_count": 225,
      "outputs": [
        {
          "output_type": "execute_result",
          "data": {
            "text/plain": [
              "amount_tsh                                  float64\n",
              "gps_height                                    int64\n",
              "num_private                                   int64\n",
              "region_code                                   int64\n",
              "district_code                                 int64\n",
              "                                             ...   \n",
              "waterpoint_type_group_communal standpipe      uint8\n",
              "waterpoint_type_group_dam                     uint8\n",
              "waterpoint_type_group_hand pump               uint8\n",
              "waterpoint_type_group_improved spring         uint8\n",
              "waterpoint_type_group_other                   uint8\n",
              "Length: 311, dtype: object"
            ]
          },
          "metadata": {
            "tags": []
          },
          "execution_count": 225
        }
      ]
    },
    {
      "cell_type": "code",
      "metadata": {
        "id": "uclLFq5WLWNf",
        "colab_type": "code",
        "colab": {
          "base_uri": "https://localhost:8080/",
          "height": 124
        },
        "outputId": "95bb858b-a491-482a-cbf7-a8c6b2e764c6"
      },
      "source": [
        "from sklearn.tree import DecisionTreeClassifier\n",
        "\n",
        "# Instantiate and fit a DecisionTreeClassifier\n",
        "tree_clf2 = DecisionTreeClassifier(random_state=10, criterion='entropy')  \n",
        "tree_clf2.fit(data_train, target_train)"
      ],
      "execution_count": 226,
      "outputs": [
        {
          "output_type": "execute_result",
          "data": {
            "text/plain": [
              "DecisionTreeClassifier(ccp_alpha=0.0, class_weight=None, criterion='entropy',\n",
              "                       max_depth=None, max_features=None, max_leaf_nodes=None,\n",
              "                       min_impurity_decrease=0.0, min_impurity_split=None,\n",
              "                       min_samples_leaf=1, min_samples_split=2,\n",
              "                       min_weight_fraction_leaf=0.0, presort='deprecated',\n",
              "                       random_state=10, splitter='best')"
            ]
          },
          "metadata": {
            "tags": []
          },
          "execution_count": 226
        }
      ]
    },
    {
      "cell_type": "code",
      "metadata": {
        "id": "VPcMqduyLYKK",
        "colab_type": "code",
        "colab": {
          "base_uri": "https://localhost:8080/",
          "height": 52
        },
        "outputId": "159a9081-4264-4bfc-cc48-71d67401a641"
      },
      "source": [
        "y_pred= tree_clf2.predict(data_test)\n",
        "y_pred"
      ],
      "execution_count": 227,
      "outputs": [
        {
          "output_type": "execute_result",
          "data": {
            "text/plain": [
              "array(['functional', 'non functional', 'functional', ..., 'functional',\n",
              "       'functional', 'non functional'], dtype=object)"
            ]
          },
          "metadata": {
            "tags": []
          },
          "execution_count": 227
        }
      ]
    },
    {
      "cell_type": "code",
      "metadata": {
        "id": "FpO0FmkyNhFf",
        "colab_type": "code",
        "colab": {
          "base_uri": "https://localhost:8080/",
          "height": 35
        },
        "outputId": "c51d5be2-1ca2-4bcc-c94e-73da6bbf2d29"
      },
      "source": [
        "from sklearn.metrics import accuracy_score\n",
        "# Calculate accuracy \n",
        "acc = accuracy_score(target_test,y_pred)\n",
        "print('Accuracy is :{0}'.format(acc))"
      ],
      "execution_count": 228,
      "outputs": [
        {
          "output_type": "stream",
          "text": [
            "Accuracy is :0.7527946127946128\n"
          ],
          "name": "stdout"
        }
      ]
    },
    {
      "cell_type": "code",
      "metadata": {
        "id": "QY6IH2cLNiT_",
        "colab_type": "code",
        "colab": {
          "base_uri": "https://localhost:8080/",
          "height": 399
        },
        "outputId": "acb60ced-1907-4cbb-c55b-4b24045cc06a"
      },
      "source": [
        "y_pred_test_set= tree_clf2.predict(test_dummies)\n",
        "y_pred_test_set = pd.DataFrame(y_pred_test_set)\n",
        "\n",
        "y_pred_test_set"
      ],
      "execution_count": 235,
      "outputs": [
        {
          "output_type": "execute_result",
          "data": {
            "text/html": [
              "<div>\n",
              "<style scoped>\n",
              "    .dataframe tbody tr th:only-of-type {\n",
              "        vertical-align: middle;\n",
              "    }\n",
              "\n",
              "    .dataframe tbody tr th {\n",
              "        vertical-align: top;\n",
              "    }\n",
              "\n",
              "    .dataframe thead th {\n",
              "        text-align: right;\n",
              "    }\n",
              "</style>\n",
              "<table border=\"1\" class=\"dataframe\">\n",
              "  <thead>\n",
              "    <tr style=\"text-align: right;\">\n",
              "      <th></th>\n",
              "      <th>0</th>\n",
              "    </tr>\n",
              "  </thead>\n",
              "  <tbody>\n",
              "    <tr>\n",
              "      <th>0</th>\n",
              "      <td>functional</td>\n",
              "    </tr>\n",
              "    <tr>\n",
              "      <th>1</th>\n",
              "      <td>functional needs repair</td>\n",
              "    </tr>\n",
              "    <tr>\n",
              "      <th>2</th>\n",
              "      <td>functional needs repair</td>\n",
              "    </tr>\n",
              "    <tr>\n",
              "      <th>3</th>\n",
              "      <td>non functional</td>\n",
              "    </tr>\n",
              "    <tr>\n",
              "      <th>4</th>\n",
              "      <td>functional</td>\n",
              "    </tr>\n",
              "    <tr>\n",
              "      <th>...</th>\n",
              "      <td>...</td>\n",
              "    </tr>\n",
              "    <tr>\n",
              "      <th>14845</th>\n",
              "      <td>non functional</td>\n",
              "    </tr>\n",
              "    <tr>\n",
              "      <th>14846</th>\n",
              "      <td>non functional</td>\n",
              "    </tr>\n",
              "    <tr>\n",
              "      <th>14847</th>\n",
              "      <td>functional</td>\n",
              "    </tr>\n",
              "    <tr>\n",
              "      <th>14848</th>\n",
              "      <td>functional</td>\n",
              "    </tr>\n",
              "    <tr>\n",
              "      <th>14849</th>\n",
              "      <td>non functional</td>\n",
              "    </tr>\n",
              "  </tbody>\n",
              "</table>\n",
              "<p>14850 rows × 1 columns</p>\n",
              "</div>"
            ],
            "text/plain": [
              "                             0\n",
              "0                   functional\n",
              "1      functional needs repair\n",
              "2      functional needs repair\n",
              "3               non functional\n",
              "4                   functional\n",
              "...                        ...\n",
              "14845           non functional\n",
              "14846           non functional\n",
              "14847               functional\n",
              "14848               functional\n",
              "14849           non functional\n",
              "\n",
              "[14850 rows x 1 columns]"
            ]
          },
          "metadata": {
            "tags": []
          },
          "execution_count": 235
        }
      ]
    },
    {
      "cell_type": "code",
      "metadata": {
        "id": "i4IAVeT3Nq6G",
        "colab_type": "code",
        "colab": {
          "base_uri": "https://localhost:8080/",
          "height": 35
        },
        "outputId": "0cd29994-8e59-455d-e4fc-41ec7c968c4c"
      },
      "source": [
        "from sklearn.metrics import accuracy_score\n",
        "# Calculate accuracy \n",
        "acc = accuracy_score(target_test,y_pred_test_set)\n",
        "print('Accuracy is :{0}'.format(acc))"
      ],
      "execution_count": 232,
      "outputs": [
        {
          "output_type": "stream",
          "text": [
            "Accuracy is :0.44356902356902356\n"
          ],
          "name": "stdout"
        }
      ]
    },
    {
      "cell_type": "code",
      "metadata": {
        "id": "6fCxkKWBNy2g",
        "colab_type": "code",
        "colab": {}
      },
      "source": [
        ""
      ],
      "execution_count": 0,
      "outputs": []
    },
    {
      "cell_type": "markdown",
      "metadata": {
        "id": "Ctk6DDWkTBAn",
        "colab_type": "text"
      },
      "source": [
        "# GridSearch CV"
      ]
    },
    {
      "cell_type": "code",
      "metadata": {
        "id": "xTvGQZsLTbzs",
        "colab_type": "code",
        "colab": {}
      },
      "source": [
        "from sklearn.model_selection import train_test_split, GridSearchCV, cross_val_score\n",
        "from sklearn.tree import DecisionTreeClassifier\n",
        "from sklearn.ensemble import RandomForestClassifier, AdaBoostClassifier\n",
        "from sklearn.metrics import accuracy_score"
      ],
      "execution_count": 0,
      "outputs": []
    },
    {
      "cell_type": "code",
      "metadata": {
        "id": "YPIZOlwuTJK4",
        "colab_type": "code",
        "colab": {}
      },
      "source": [
        "# Split the data into training and test sets\n",
        "X_train, X_test, y_train, y_test = train_test_split(x, y, random_state=42)\n"
      ],
      "execution_count": 0,
      "outputs": []
    },
    {
      "cell_type": "code",
      "metadata": {
        "id": "Qr0NUA6OTUzl",
        "colab_type": "code",
        "colab": {
          "base_uri": "https://localhost:8080/",
          "height": 35
        },
        "outputId": "045aba48-9273-44c5-907c-56aaee7e5702"
      },
      "source": [
        "dt_clf = DecisionTreeClassifier()\n",
        "\n",
        "dt_cv_score = cross_val_score(dt_clf, X_train, y_train, cv=3)\n",
        "mean_dt_cv_score = np.mean(dt_cv_score)\n",
        "\n",
        "print(f\"Mean Cross Validation Score: {mean_dt_cv_score :.2%}\")"
      ],
      "execution_count": 284,
      "outputs": [
        {
          "output_type": "stream",
          "text": [
            "Mean Cross Validation Score: 74.30%\n"
          ],
          "name": "stdout"
        }
      ]
    },
    {
      "cell_type": "code",
      "metadata": {
        "id": "1Z8e00_qTXqU",
        "colab_type": "code",
        "colab": {}
      },
      "source": [
        ""
      ],
      "execution_count": 0,
      "outputs": []
    }
  ]
}