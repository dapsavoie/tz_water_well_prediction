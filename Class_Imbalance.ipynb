{
  "nbformat": 4,
  "nbformat_minor": 0,
  "metadata": {
    "colab": {
      "name": "Class Imbalance.ipynb",
      "provenance": [],
      "collapsed_sections": [],
      "authorship_tag": "ABX9TyOzgs98xYNn+DNOHTJX2zA9",
      "include_colab_link": true
    },
    "kernelspec": {
      "name": "python3",
      "display_name": "Python 3"
    }
  },
  "cells": [
    {
      "cell_type": "markdown",
      "metadata": {
        "id": "view-in-github",
        "colab_type": "text"
      },
      "source": [
        "<a href=\"https://colab.research.google.com/github/dapsavoie/tz_water_well_prediction/blob/master/Class_Imbalance.ipynb\" target=\"_parent\"><img src=\"https://colab.research.google.com/assets/colab-badge.svg\" alt=\"Open In Colab\"/></a>"
      ]
    },
    {
      "cell_type": "code",
      "metadata": {
        "id": "8cPUwlHm1O2R",
        "colab_type": "code",
        "colab": {}
      },
      "source": [
        "import pandas as pd \n",
        "import numpy as np"
      ],
      "execution_count": 0,
      "outputs": []
    },
    {
      "cell_type": "code",
      "metadata": {
        "id": "3ze0OgSQ1ZvN",
        "colab_type": "code",
        "outputId": "b0261f0d-6774-4800-96a7-24f89d4632bb",
        "colab": {
          "base_uri": "https://localhost:8080/",
          "height": 35
        }
      },
      "source": [
        "from google.colab import drive\n",
        "drive.mount('/content/drive')"
      ],
      "execution_count": 184,
      "outputs": [
        {
          "output_type": "stream",
          "text": [
            "Drive already mounted at /content/drive; to attempt to forcibly remount, call drive.mount(\"/content/drive\", force_remount=True).\n"
          ],
          "name": "stdout"
        }
      ]
    },
    {
      "cell_type": "code",
      "metadata": {
        "id": "UHfaXAzk1bIK",
        "colab_type": "code",
        "colab": {}
      },
      "source": [
        "#Train dummies \n",
        "train_dummies = pd.read_csv(r'/content/drive/My Drive/tz_water_well_data/train_dummmies.csv')\n",
        "\n",
        "#Test export to csv \n",
        "test_dummies = pd.read_csv(r'/content/drive/My Drive/tz_water_well_data/test_dummies.csv')\n",
        "\n",
        "#df_labels\n",
        "df_labels = pd.read_csv('/content/drive/My Drive/tz_water_well_data/training_set_values.csv')"
      ],
      "execution_count": 0,
      "outputs": []
    },
    {
      "cell_type": "code",
      "metadata": {
        "id": "Qjf5AZ_61hc0",
        "colab_type": "code",
        "colab": {}
      },
      "source": [
        "y = df_labels['status_group']\n",
        "\n",
        "x = train_dummies"
      ],
      "execution_count": 0,
      "outputs": []
    },
    {
      "cell_type": "markdown",
      "metadata": {
        "id": "e4xsJC1vCvuZ",
        "colab_type": "text"
      },
      "source": [
        "# Implementing oversampling for handling imbalanced data"
      ]
    },
    {
      "cell_type": "code",
      "metadata": {
        "id": "Gggj_13o73T_",
        "colab_type": "code",
        "colab": {}
      },
      "source": [
        "from imblearn.combine import SMOTETomek\n",
        "from imblearn.under_sampling import NearMiss"
      ],
      "execution_count": 0,
      "outputs": []
    },
    {
      "cell_type": "code",
      "metadata": {
        "id": "4AdnQTP378T7",
        "colab_type": "code",
        "outputId": "e9b3490b-10a1-4d61-f83a-df3be13afe57",
        "colab": {
          "base_uri": "https://localhost:8080/",
          "height": 124
        }
      },
      "source": [
        "smk = SMOTETomek(random_state=42)\n",
        "X_res, y_res=smk.fit_sample(X_train, y_train)"
      ],
      "execution_count": 188,
      "outputs": [
        {
          "output_type": "stream",
          "text": [
            "/usr/local/lib/python3.6/dist-packages/sklearn/utils/deprecation.py:87: FutureWarning: Function safe_indexing is deprecated; safe_indexing is deprecated in version 0.22 and will be removed in version 0.24.\n",
            "  warnings.warn(msg, category=FutureWarning)\n",
            "/usr/local/lib/python3.6/dist-packages/sklearn/utils/deprecation.py:87: FutureWarning: Function safe_indexing is deprecated; safe_indexing is deprecated in version 0.22 and will be removed in version 0.24.\n",
            "  warnings.warn(msg, category=FutureWarning)\n",
            "/usr/local/lib/python3.6/dist-packages/sklearn/utils/deprecation.py:87: FutureWarning: Function safe_indexing is deprecated; safe_indexing is deprecated in version 0.22 and will be removed in version 0.24.\n",
            "  warnings.warn(msg, category=FutureWarning)\n"
          ],
          "name": "stderr"
        }
      ]
    },
    {
      "cell_type": "code",
      "metadata": {
        "id": "piXX7C7u78We",
        "colab_type": "code",
        "outputId": "7d984b28-8086-4ecc-eaca-684791b3fe4d",
        "colab": {
          "base_uri": "https://localhost:8080/",
          "height": 35
        }
      },
      "source": [
        "X_res.shape,y_res.shape"
      ],
      "execution_count": 189,
      "outputs": [
        {
          "output_type": "execute_result",
          "data": {
            "text/plain": [
              "((62547, 315), (62547,))"
            ]
          },
          "metadata": {
            "tags": []
          },
          "execution_count": 189
        }
      ]
    },
    {
      "cell_type": "code",
      "metadata": {
        "id": "cOwYbYBm8J1w",
        "colab_type": "code",
        "outputId": "65e05983-1d40-4d7c-f517-366ee9b68452",
        "colab": {
          "base_uri": "https://localhost:8080/",
          "height": 52
        }
      },
      "source": [
        "from collections import Counter\n",
        "print('Original dataset shape {}'.format(Counter(y)))\n",
        "print('Resampled dataset shape {}'.format(Counter(y_res)))"
      ],
      "execution_count": 190,
      "outputs": [
        {
          "output_type": "stream",
          "text": [
            "Original dataset shape Counter({'functional': 32259, 'non functional': 22824, 'functional needs repair': 4317})\n",
            "Resampled dataset shape Counter({'functional needs repair': 22602, 'non functional': 20111, 'functional': 19834})\n"
          ],
          "name": "stdout"
        }
      ]
    },
    {
      "cell_type": "markdown",
      "metadata": {
        "id": "zL1A923Xcjac",
        "colab_type": "text"
      },
      "source": [
        "# Fit the Model on SMOTE Data"
      ]
    },
    {
      "cell_type": "code",
      "metadata": {
        "id": "wiXcHY2UbEfI",
        "colab_type": "code",
        "colab": {}
      },
      "source": [
        "scaler = StandardScaler()"
      ],
      "execution_count": 0,
      "outputs": []
    },
    {
      "cell_type": "code",
      "metadata": {
        "id": "IScXZ_4tbVkk",
        "colab_type": "code",
        "colab": {}
      },
      "source": [
        "scaled_df = scaler.fit_transform(X_res)"
      ],
      "execution_count": 0,
      "outputs": []
    },
    {
      "cell_type": "code",
      "metadata": {
        "id": "dJN14Hk5bucp",
        "colab_type": "code",
        "colab": {}
      },
      "source": [
        "from sklearn.model_selection import train_test_split\n",
        "\n",
        "X_train, X_test, y_train, y_test = train_test_split(X_res, y_res)"
      ],
      "execution_count": 0,
      "outputs": []
    },
    {
      "cell_type": "code",
      "metadata": {
        "id": "zri0sJRG2Vmt",
        "colab_type": "code",
        "outputId": "219bba9c-8968-4126-ca50-301846d1cfc8",
        "colab": {
          "base_uri": "https://localhost:8080/",
          "height": 52
        }
      },
      "source": [
        "#Train\n",
        "\n",
        "clf = xgb.XGBClassifier()\n",
        "clf.fit(X_train, y_train)\n",
        "training_preds = clf.predict(X_train)\n",
        "val_preds = clf.predict(X_test)\n",
        "training_accuracy = accuracy_score(y_train, training_preds)\n",
        "val_accuracy = accuracy_score(y_test, val_preds)\n",
        "\n",
        "print(\"Training Accuracy: {:.4}%\".format(training_accuracy * 100))\n",
        "print(\"Validation accuracy: {:.4}%\".format(val_accuracy * 100))"
      ],
      "execution_count": 194,
      "outputs": [
        {
          "output_type": "stream",
          "text": [
            "Training Accuracy: 80.71%\n",
            "Validation accuracy: 79.8%\n"
          ],
          "name": "stdout"
        }
      ]
    },
    {
      "cell_type": "code",
      "metadata": {
        "id": "VNeRYWQOeXO0",
        "colab_type": "code",
        "colab": {
          "base_uri": "https://localhost:8080/",
          "height": 35
        },
        "outputId": "161b4029-8d47-4be4-a00d-e14a159a9274"
      },
      "source": [
        "test_preds = clf.predict(test_dummies, validate_features=False)\n",
        "test_preds.shape, df_test_set.shape"
      ],
      "execution_count": 195,
      "outputs": [
        {
          "output_type": "execute_result",
          "data": {
            "text/plain": [
              "((14850,), (14850, 40))"
            ]
          },
          "metadata": {
            "tags": []
          },
          "execution_count": 195
        }
      ]
    },
    {
      "cell_type": "code",
      "metadata": {
        "id": "HVIUs-4hEaOn",
        "colab_type": "code",
        "outputId": "f1fed36d-938a-47af-acd1-cc3759074fbb",
        "colab": {
          "base_uri": "https://localhost:8080/",
          "height": 35
        }
      },
      "source": [
        "df_test_preds = clf.predict(test_dummies, validate_features=False)\n",
        "df_test_preds.shape"
      ],
      "execution_count": 197,
      "outputs": [
        {
          "output_type": "execute_result",
          "data": {
            "text/plain": [
              "(14850,)"
            ]
          },
          "metadata": {
            "tags": []
          },
          "execution_count": 197
        }
      ]
    },
    {
      "cell_type": "code",
      "metadata": {
        "id": "leBsmn8_5fRu",
        "colab_type": "code",
        "colab": {}
      },
      "source": [
        ""
      ],
      "execution_count": 0,
      "outputs": []
    }
  ]
}