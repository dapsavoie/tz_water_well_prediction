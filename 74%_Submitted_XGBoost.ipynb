{
  "nbformat": 4,
  "nbformat_minor": 0,
  "metadata": {
    "colab": {
      "name": "74% Submitted XGBoost.ipynb",
      "provenance": [],
      "authorship_tag": "ABX9TyOhbhjm4jLIdHNc552+1gaK",
      "include_colab_link": true
    },
    "kernelspec": {
      "name": "python3",
      "display_name": "Python 3"
    }
  },
  "cells": [
    {
      "cell_type": "markdown",
      "metadata": {
        "id": "view-in-github",
        "colab_type": "text"
      },
      "source": [
        "<a href=\"https://colab.research.google.com/github/dapsavoie/tz_water_well_prediction/blob/master/74%25_Submitted_XGBoost.ipynb\" target=\"_parent\"><img src=\"https://colab.research.google.com/assets/colab-badge.svg\" alt=\"Open In Colab\"/></a>"
      ]
    },
    {
      "cell_type": "markdown",
      "metadata": {
        "id": "pg3zI8zqle1y",
        "colab_type": "text"
      },
      "source": [
        "# Import Libraries "
      ]
    },
    {
      "cell_type": "code",
      "metadata": {
        "id": "SEZgZs5qZPpW",
        "colab_type": "code",
        "colab": {}
      },
      "source": [
        "import pandas as pd \n",
        "import numpy as np"
      ],
      "execution_count": 0,
      "outputs": []
    },
    {
      "cell_type": "code",
      "metadata": {
        "id": "5UyUYnswZTvo",
        "colab_type": "code",
        "outputId": "1664462c-f9fb-414d-ff4c-3cb3b5318d1e",
        "colab": {
          "base_uri": "https://localhost:8080/",
          "height": 55
        }
      },
      "source": [
        "from google.colab import drive\n",
        "drive.mount('/content/drive')"
      ],
      "execution_count": 62,
      "outputs": [
        {
          "output_type": "stream",
          "text": [
            "Drive already mounted at /content/drive; to attempt to forcibly remount, call drive.mount(\"/content/drive\", force_remount=True).\n"
          ],
          "name": "stdout"
        }
      ]
    },
    {
      "cell_type": "code",
      "metadata": {
        "id": "YDBiLHkqZepN",
        "colab_type": "code",
        "colab": {}
      },
      "source": [
        "#Train dummies \n",
        "train_dummies = pd.read_csv(r'/content/drive/My Drive/tz_water_well_data/train_dummmies.csv')\n",
        "\n",
        "#Test export to csv \n",
        "test_dummies = pd.read_csv(r'/content/drive/My Drive/tz_water_well_data/test_dummies.csv')\n",
        "\n",
        "#df_lables\n",
        "df_labels = pd.read_csv('/content/drive/My Drive/tz_water_well_data/training_set_values.csv')"
      ],
      "execution_count": 0,
      "outputs": []
    },
    {
      "cell_type": "markdown",
      "metadata": {
        "id": "5r3y7dc5lhnx",
        "colab_type": "text"
      },
      "source": [
        "# Xgboost Pipeline"
      ]
    },
    {
      "cell_type": "code",
      "metadata": {
        "id": "f03Vdm5hZeDu",
        "colab_type": "code",
        "colab": {}
      },
      "source": [
        "import xgboost as xgb\n",
        "from sklearn.preprocessing import StandardScaler\n",
        "from sklearn.model_selection import train_test_split, GridSearchCV\n",
        "\n",
        "from sklearn.metrics import accuracy_score\n",
        "from sklearn.metrics import recall_score\n",
        "\n",
        "from sklearn.pipeline import Pipeline\n"
      ],
      "execution_count": 0,
      "outputs": []
    },
    {
      "cell_type": "code",
      "metadata": {
        "id": "eacHz-zgY5bI",
        "colab_type": "code",
        "colab": {}
      },
      "source": [
        "#Split predictor and target variables \n",
        "\n",
        "y = df_labels['status_group']\n",
        "X = train_dummies "
      ],
      "execution_count": 0,
      "outputs": []
    },
    {
      "cell_type": "code",
      "metadata": {
        "id": "2nmqyNR2ZNeC",
        "colab_type": "code",
        "colab": {}
      },
      "source": [
        "#split into predictor and target variables \n",
        "\n",
        "X_train, X_test, y_train, y_test = train_test_split(X, y, test_size=0.20, random_state=42)"
      ],
      "execution_count": 0,
      "outputs": []
    },
    {
      "cell_type": "code",
      "metadata": {
        "id": "MUkSlbnuaGgG",
        "colab_type": "code",
        "outputId": "afa25c51-bd0d-49c6-ee1e-21339595c4f0",
        "colab": {
          "base_uri": "https://localhost:8080/",
          "height": 277
        }
      },
      "source": [
        "scaler=StandardScaler()\n",
        "\n",
        "#transform training and test \n",
        "scaled_data_train = scaler.fit_transform(X_train)\n",
        "scaled_data_test = scaler.fit_transform(X_test)\n",
        "\n",
        "#Convert to data dataframe \n",
        "scaled_df_train = pd.DataFrame(scaled_data_train, columns=X_train.columns)\n",
        "scaled_df_train.head()"
      ],
      "execution_count": 68,
      "outputs": [
        {
          "output_type": "execute_result",
          "data": {
            "text/html": [
              "<div>\n",
              "<style scoped>\n",
              "    .dataframe tbody tr th:only-of-type {\n",
              "        vertical-align: middle;\n",
              "    }\n",
              "\n",
              "    .dataframe tbody tr th {\n",
              "        vertical-align: top;\n",
              "    }\n",
              "\n",
              "    .dataframe thead th {\n",
              "        text-align: right;\n",
              "    }\n",
              "</style>\n",
              "<table border=\"1\" class=\"dataframe\">\n",
              "  <thead>\n",
              "    <tr style=\"text-align: right;\">\n",
              "      <th></th>\n",
              "      <th>Unnamed: 0</th>\n",
              "      <th>id</th>\n",
              "      <th>amount_tsh</th>\n",
              "      <th>gps_height</th>\n",
              "      <th>longitude</th>\n",
              "      <th>latitude</th>\n",
              "      <th>num_private</th>\n",
              "      <th>region_code</th>\n",
              "      <th>district_code</th>\n",
              "      <th>population</th>\n",
              "      <th>construction_year</th>\n",
              "      <th>funder_Danida</th>\n",
              "      <th>funder_Government of Tanzania</th>\n",
              "      <th>funder_Hesawa</th>\n",
              "      <th>funder_Rwssp</th>\n",
              "      <th>funder_World_Bank</th>\n",
              "      <th>funder_other</th>\n",
              "      <th>installer_Commu</th>\n",
              "      <th>installer_DANIDA</th>\n",
              "      <th>installer_DWE</th>\n",
              "      <th>installer_Danida</th>\n",
              "      <th>installer_RWE</th>\n",
              "      <th>installer_other</th>\n",
              "      <th>basin_Internal</th>\n",
              "      <th>basin_Lake Nyasa</th>\n",
              "      <th>basin_Lake Rukwa</th>\n",
              "      <th>basin_Lake Tanganyika</th>\n",
              "      <th>basin_Lake Victoria</th>\n",
              "      <th>basin_Pangani</th>\n",
              "      <th>basin_Rufiji</th>\n",
              "      <th>basin_Ruvuma / Southern Coast</th>\n",
              "      <th>basin_Wami / Ruvu</th>\n",
              "      <th>region_Arusha</th>\n",
              "      <th>region_Dar es Salaam</th>\n",
              "      <th>region_Dodoma</th>\n",
              "      <th>region_Iringa</th>\n",
              "      <th>region_Kagera</th>\n",
              "      <th>region_Kigoma</th>\n",
              "      <th>region_Kilimanjaro</th>\n",
              "      <th>region_Lindi</th>\n",
              "      <th>...</th>\n",
              "      <th>quantity_seasonal</th>\n",
              "      <th>quantity_unknown</th>\n",
              "      <th>quantity_group_dry</th>\n",
              "      <th>quantity_group_enough</th>\n",
              "      <th>quantity_group_insufficient</th>\n",
              "      <th>quantity_group_seasonal</th>\n",
              "      <th>quantity_group_unknown</th>\n",
              "      <th>source_dam</th>\n",
              "      <th>source_hand dtw</th>\n",
              "      <th>source_lake</th>\n",
              "      <th>source_machine dbh</th>\n",
              "      <th>source_other</th>\n",
              "      <th>source_rainwater harvesting</th>\n",
              "      <th>source_river</th>\n",
              "      <th>source_shallow well</th>\n",
              "      <th>source_spring</th>\n",
              "      <th>source_unknown</th>\n",
              "      <th>source_type_borehole</th>\n",
              "      <th>source_type_dam</th>\n",
              "      <th>source_type_other</th>\n",
              "      <th>source_type_rainwater harvesting</th>\n",
              "      <th>source_type_river/lake</th>\n",
              "      <th>source_type_shallow well</th>\n",
              "      <th>source_type_spring</th>\n",
              "      <th>source_class_groundwater</th>\n",
              "      <th>source_class_surface</th>\n",
              "      <th>source_class_unknown</th>\n",
              "      <th>waterpoint_type_cattle trough</th>\n",
              "      <th>waterpoint_type_communal standpipe</th>\n",
              "      <th>waterpoint_type_communal standpipe multiple</th>\n",
              "      <th>waterpoint_type_dam</th>\n",
              "      <th>waterpoint_type_hand pump</th>\n",
              "      <th>waterpoint_type_improved spring</th>\n",
              "      <th>waterpoint_type_other</th>\n",
              "      <th>waterpoint_type_group_cattle trough</th>\n",
              "      <th>waterpoint_type_group_communal standpipe</th>\n",
              "      <th>waterpoint_type_group_dam</th>\n",
              "      <th>waterpoint_type_group_hand pump</th>\n",
              "      <th>waterpoint_type_group_improved spring</th>\n",
              "      <th>waterpoint_type_group_other</th>\n",
              "    </tr>\n",
              "  </thead>\n",
              "  <tbody>\n",
              "    <tr>\n",
              "      <th>0</th>\n",
              "      <td>-1.522547</td>\n",
              "      <td>-1.709469</td>\n",
              "      <td>-0.084999</td>\n",
              "      <td>2.053863</td>\n",
              "      <td>0.204135</td>\n",
              "      <td>0.501977</td>\n",
              "      <td>-0.03807</td>\n",
              "      <td>0.322017</td>\n",
              "      <td>-0.480201</td>\n",
              "      <td>-0.041306</td>\n",
              "      <td>0.436109</td>\n",
              "      <td>-0.235052</td>\n",
              "      <td>-0.424305</td>\n",
              "      <td>-0.198075</td>\n",
              "      <td>-0.154438</td>\n",
              "      <td>-0.152209</td>\n",
              "      <td>0.636953</td>\n",
              "      <td>-0.134955</td>\n",
              "      <td>-0.133738</td>\n",
              "      <td>-0.644435</td>\n",
              "      <td>-0.175634</td>\n",
              "      <td>-0.144505</td>\n",
              "      <td>0.781672</td>\n",
              "      <td>2.575842</td>\n",
              "      <td>-0.303748</td>\n",
              "      <td>-0.208844</td>\n",
              "      <td>-0.349359</td>\n",
              "      <td>-0.456836</td>\n",
              "      <td>-0.420604</td>\n",
              "      <td>-0.393624</td>\n",
              "      <td>-0.286299</td>\n",
              "      <td>-0.335356</td>\n",
              "      <td>-0.245055</td>\n",
              "      <td>-0.11813</td>\n",
              "      <td>-0.195827</td>\n",
              "      <td>-0.313563</td>\n",
              "      <td>-0.243604</td>\n",
              "      <td>-0.223199</td>\n",
              "      <td>-0.280493</td>\n",
              "      <td>-0.164363</td>\n",
              "      <td>...</td>\n",
              "      <td>-0.269828</td>\n",
              "      <td>-0.115819</td>\n",
              "      <td>-0.343836</td>\n",
              "      <td>-1.124633</td>\n",
              "      <td>1.710548</td>\n",
              "      <td>-0.269828</td>\n",
              "      <td>-0.115819</td>\n",
              "      <td>-0.10364</td>\n",
              "      <td>-0.122362</td>\n",
              "      <td>-0.113654</td>\n",
              "      <td>-0.478359</td>\n",
              "      <td>-0.061318</td>\n",
              "      <td>-0.200074</td>\n",
              "      <td>-0.440386</td>\n",
              "      <td>-0.631245</td>\n",
              "      <td>1.584418</td>\n",
              "      <td>-0.034349</td>\n",
              "      <td>-0.501512</td>\n",
              "      <td>-0.10364</td>\n",
              "      <td>-0.070346</td>\n",
              "      <td>-0.200074</td>\n",
              "      <td>-0.460868</td>\n",
              "      <td>-0.631245</td>\n",
              "      <td>1.584418</td>\n",
              "      <td>0.545347</td>\n",
              "      <td>-0.537743</td>\n",
              "      <td>-0.070346</td>\n",
              "      <td>-0.043802</td>\n",
              "      <td>1.041913</td>\n",
              "      <td>-0.336365</td>\n",
              "      <td>-0.009175</td>\n",
              "      <td>-0.648656</td>\n",
              "      <td>-0.116749</td>\n",
              "      <td>-0.346660</td>\n",
              "      <td>-0.043802</td>\n",
              "      <td>0.849002</td>\n",
              "      <td>-0.009175</td>\n",
              "      <td>-0.648656</td>\n",
              "      <td>-0.116749</td>\n",
              "      <td>-0.346660</td>\n",
              "    </tr>\n",
              "    <tr>\n",
              "      <th>1</th>\n",
              "      <td>1.237767</td>\n",
              "      <td>-1.706858</td>\n",
              "      <td>-0.100621</td>\n",
              "      <td>-0.965049</td>\n",
              "      <td>0.216991</td>\n",
              "      <td>-0.006643</td>\n",
              "      <td>-0.03807</td>\n",
              "      <td>-0.813147</td>\n",
              "      <td>0.037334</td>\n",
              "      <td>-0.379739</td>\n",
              "      <td>-0.623675</td>\n",
              "      <td>-0.235052</td>\n",
              "      <td>-0.424305</td>\n",
              "      <td>-0.198075</td>\n",
              "      <td>-0.154438</td>\n",
              "      <td>-0.152209</td>\n",
              "      <td>0.636953</td>\n",
              "      <td>-0.134955</td>\n",
              "      <td>-0.133738</td>\n",
              "      <td>-0.644435</td>\n",
              "      <td>-0.175634</td>\n",
              "      <td>-0.144505</td>\n",
              "      <td>0.781672</td>\n",
              "      <td>2.575842</td>\n",
              "      <td>-0.303748</td>\n",
              "      <td>-0.208844</td>\n",
              "      <td>-0.349359</td>\n",
              "      <td>-0.456836</td>\n",
              "      <td>-0.420604</td>\n",
              "      <td>-0.393624</td>\n",
              "      <td>-0.286299</td>\n",
              "      <td>-0.335356</td>\n",
              "      <td>-0.245055</td>\n",
              "      <td>-0.11813</td>\n",
              "      <td>5.106557</td>\n",
              "      <td>-0.313563</td>\n",
              "      <td>-0.243604</td>\n",
              "      <td>-0.223199</td>\n",
              "      <td>-0.280493</td>\n",
              "      <td>-0.164363</td>\n",
              "      <td>...</td>\n",
              "      <td>-0.269828</td>\n",
              "      <td>-0.115819</td>\n",
              "      <td>-0.343836</td>\n",
              "      <td>0.889179</td>\n",
              "      <td>-0.584608</td>\n",
              "      <td>-0.269828</td>\n",
              "      <td>-0.115819</td>\n",
              "      <td>-0.10364</td>\n",
              "      <td>-0.122362</td>\n",
              "      <td>-0.113654</td>\n",
              "      <td>-0.478359</td>\n",
              "      <td>-0.061318</td>\n",
              "      <td>-0.200074</td>\n",
              "      <td>-0.440386</td>\n",
              "      <td>1.584172</td>\n",
              "      <td>-0.631147</td>\n",
              "      <td>-0.034349</td>\n",
              "      <td>-0.501512</td>\n",
              "      <td>-0.10364</td>\n",
              "      <td>-0.070346</td>\n",
              "      <td>-0.200074</td>\n",
              "      <td>-0.460868</td>\n",
              "      <td>1.584172</td>\n",
              "      <td>-0.631147</td>\n",
              "      <td>0.545347</td>\n",
              "      <td>-0.537743</td>\n",
              "      <td>-0.070346</td>\n",
              "      <td>-0.043802</td>\n",
              "      <td>-0.959773</td>\n",
              "      <td>-0.336365</td>\n",
              "      <td>-0.009175</td>\n",
              "      <td>1.541648</td>\n",
              "      <td>-0.116749</td>\n",
              "      <td>-0.346660</td>\n",
              "      <td>-0.043802</td>\n",
              "      <td>-1.177854</td>\n",
              "      <td>-0.009175</td>\n",
              "      <td>1.541648</td>\n",
              "      <td>-0.116749</td>\n",
              "      <td>-0.346660</td>\n",
              "    </tr>\n",
              "    <tr>\n",
              "      <th>2</th>\n",
              "      <td>-0.541022</td>\n",
              "      <td>-1.071015</td>\n",
              "      <td>-0.100621</td>\n",
              "      <td>-0.965049</td>\n",
              "      <td>-0.243403</td>\n",
              "      <td>-1.147020</td>\n",
              "      <td>-0.03807</td>\n",
              "      <td>-0.188807</td>\n",
              "      <td>0.037334</td>\n",
              "      <td>-0.379739</td>\n",
              "      <td>-0.623675</td>\n",
              "      <td>-0.235052</td>\n",
              "      <td>-0.424305</td>\n",
              "      <td>-0.198075</td>\n",
              "      <td>-0.154438</td>\n",
              "      <td>-0.152209</td>\n",
              "      <td>0.636953</td>\n",
              "      <td>-0.134955</td>\n",
              "      <td>-0.133738</td>\n",
              "      <td>-0.644435</td>\n",
              "      <td>-0.175634</td>\n",
              "      <td>-0.144505</td>\n",
              "      <td>0.781672</td>\n",
              "      <td>-0.388223</td>\n",
              "      <td>-0.303748</td>\n",
              "      <td>4.788266</td>\n",
              "      <td>-0.349359</td>\n",
              "      <td>-0.456836</td>\n",
              "      <td>-0.420604</td>\n",
              "      <td>-0.393624</td>\n",
              "      <td>-0.286299</td>\n",
              "      <td>-0.335356</td>\n",
              "      <td>-0.245055</td>\n",
              "      <td>-0.11813</td>\n",
              "      <td>-0.195827</td>\n",
              "      <td>-0.313563</td>\n",
              "      <td>-0.243604</td>\n",
              "      <td>-0.223199</td>\n",
              "      <td>-0.280493</td>\n",
              "      <td>-0.164363</td>\n",
              "      <td>...</td>\n",
              "      <td>-0.269828</td>\n",
              "      <td>-0.115819</td>\n",
              "      <td>-0.343836</td>\n",
              "      <td>0.889179</td>\n",
              "      <td>-0.584608</td>\n",
              "      <td>-0.269828</td>\n",
              "      <td>-0.115819</td>\n",
              "      <td>-0.10364</td>\n",
              "      <td>-0.122362</td>\n",
              "      <td>-0.113654</td>\n",
              "      <td>-0.478359</td>\n",
              "      <td>-0.061318</td>\n",
              "      <td>-0.200074</td>\n",
              "      <td>-0.440386</td>\n",
              "      <td>1.584172</td>\n",
              "      <td>-0.631147</td>\n",
              "      <td>-0.034349</td>\n",
              "      <td>-0.501512</td>\n",
              "      <td>-0.10364</td>\n",
              "      <td>-0.070346</td>\n",
              "      <td>-0.200074</td>\n",
              "      <td>-0.460868</td>\n",
              "      <td>1.584172</td>\n",
              "      <td>-0.631147</td>\n",
              "      <td>0.545347</td>\n",
              "      <td>-0.537743</td>\n",
              "      <td>-0.070346</td>\n",
              "      <td>-0.043802</td>\n",
              "      <td>-0.959773</td>\n",
              "      <td>-0.336365</td>\n",
              "      <td>-0.009175</td>\n",
              "      <td>-0.648656</td>\n",
              "      <td>-0.116749</td>\n",
              "      <td>2.884667</td>\n",
              "      <td>-0.043802</td>\n",
              "      <td>-1.177854</td>\n",
              "      <td>-0.009175</td>\n",
              "      <td>-0.648656</td>\n",
              "      <td>-0.116749</td>\n",
              "      <td>2.884667</td>\n",
              "    </tr>\n",
              "    <tr>\n",
              "      <th>3</th>\n",
              "      <td>1.350836</td>\n",
              "      <td>0.480077</td>\n",
              "      <td>-0.100621</td>\n",
              "      <td>-0.965049</td>\n",
              "      <td>-0.004716</td>\n",
              "      <td>-1.061741</td>\n",
              "      <td>-0.03807</td>\n",
              "      <td>-0.188807</td>\n",
              "      <td>0.140841</td>\n",
              "      <td>-0.379739</td>\n",
              "      <td>-0.623675</td>\n",
              "      <td>-0.235052</td>\n",
              "      <td>-0.424305</td>\n",
              "      <td>-0.198075</td>\n",
              "      <td>-0.154438</td>\n",
              "      <td>-0.152209</td>\n",
              "      <td>0.636953</td>\n",
              "      <td>-0.134955</td>\n",
              "      <td>-0.133738</td>\n",
              "      <td>-0.644435</td>\n",
              "      <td>-0.175634</td>\n",
              "      <td>-0.144505</td>\n",
              "      <td>0.781672</td>\n",
              "      <td>-0.388223</td>\n",
              "      <td>-0.303748</td>\n",
              "      <td>-0.208844</td>\n",
              "      <td>-0.349359</td>\n",
              "      <td>-0.456836</td>\n",
              "      <td>-0.420604</td>\n",
              "      <td>2.540496</td>\n",
              "      <td>-0.286299</td>\n",
              "      <td>-0.335356</td>\n",
              "      <td>-0.245055</td>\n",
              "      <td>-0.11813</td>\n",
              "      <td>-0.195827</td>\n",
              "      <td>-0.313563</td>\n",
              "      <td>-0.243604</td>\n",
              "      <td>-0.223199</td>\n",
              "      <td>-0.280493</td>\n",
              "      <td>-0.164363</td>\n",
              "      <td>...</td>\n",
              "      <td>-0.269828</td>\n",
              "      <td>-0.115819</td>\n",
              "      <td>-0.343836</td>\n",
              "      <td>-1.124633</td>\n",
              "      <td>1.710548</td>\n",
              "      <td>-0.269828</td>\n",
              "      <td>-0.115819</td>\n",
              "      <td>-0.10364</td>\n",
              "      <td>-0.122362</td>\n",
              "      <td>-0.113654</td>\n",
              "      <td>-0.478359</td>\n",
              "      <td>-0.061318</td>\n",
              "      <td>-0.200074</td>\n",
              "      <td>2.270735</td>\n",
              "      <td>-0.631245</td>\n",
              "      <td>-0.631147</td>\n",
              "      <td>-0.034349</td>\n",
              "      <td>-0.501512</td>\n",
              "      <td>-0.10364</td>\n",
              "      <td>-0.070346</td>\n",
              "      <td>-0.200074</td>\n",
              "      <td>2.169818</td>\n",
              "      <td>-0.631245</td>\n",
              "      <td>-0.631147</td>\n",
              "      <td>-1.833694</td>\n",
              "      <td>1.859625</td>\n",
              "      <td>-0.070346</td>\n",
              "      <td>-0.043802</td>\n",
              "      <td>1.041913</td>\n",
              "      <td>-0.336365</td>\n",
              "      <td>-0.009175</td>\n",
              "      <td>-0.648656</td>\n",
              "      <td>-0.116749</td>\n",
              "      <td>-0.346660</td>\n",
              "      <td>-0.043802</td>\n",
              "      <td>0.849002</td>\n",
              "      <td>-0.009175</td>\n",
              "      <td>-0.648656</td>\n",
              "      <td>-0.116749</td>\n",
              "      <td>-0.346660</td>\n",
              "    </tr>\n",
              "    <tr>\n",
              "      <th>4</th>\n",
              "      <td>1.192271</td>\n",
              "      <td>-1.670580</td>\n",
              "      <td>-0.006889</td>\n",
              "      <td>0.511216</td>\n",
              "      <td>0.449866</td>\n",
              "      <td>-0.114078</td>\n",
              "      <td>-0.03807</td>\n",
              "      <td>-0.586114</td>\n",
              "      <td>-0.480201</td>\n",
              "      <td>-0.125914</td>\n",
              "      <td>0.347794</td>\n",
              "      <td>-0.235052</td>\n",
              "      <td>-0.424305</td>\n",
              "      <td>-0.198075</td>\n",
              "      <td>-0.154438</td>\n",
              "      <td>-0.152209</td>\n",
              "      <td>0.636953</td>\n",
              "      <td>-0.134955</td>\n",
              "      <td>-0.133738</td>\n",
              "      <td>-0.644435</td>\n",
              "      <td>-0.175634</td>\n",
              "      <td>-0.144505</td>\n",
              "      <td>0.781672</td>\n",
              "      <td>-0.388223</td>\n",
              "      <td>-0.303748</td>\n",
              "      <td>-0.208844</td>\n",
              "      <td>-0.349359</td>\n",
              "      <td>-0.456836</td>\n",
              "      <td>-0.420604</td>\n",
              "      <td>-0.393624</td>\n",
              "      <td>-0.286299</td>\n",
              "      <td>2.981905</td>\n",
              "      <td>-0.245055</td>\n",
              "      <td>-0.11813</td>\n",
              "      <td>-0.195827</td>\n",
              "      <td>-0.313563</td>\n",
              "      <td>-0.243604</td>\n",
              "      <td>-0.223199</td>\n",
              "      <td>-0.280493</td>\n",
              "      <td>-0.164363</td>\n",
              "      <td>...</td>\n",
              "      <td>-0.269828</td>\n",
              "      <td>-0.115819</td>\n",
              "      <td>-0.343836</td>\n",
              "      <td>0.889179</td>\n",
              "      <td>-0.584608</td>\n",
              "      <td>-0.269828</td>\n",
              "      <td>-0.115819</td>\n",
              "      <td>-0.10364</td>\n",
              "      <td>-0.122362</td>\n",
              "      <td>-0.113654</td>\n",
              "      <td>-0.478359</td>\n",
              "      <td>-0.061318</td>\n",
              "      <td>-0.200074</td>\n",
              "      <td>-0.440386</td>\n",
              "      <td>1.584172</td>\n",
              "      <td>-0.631147</td>\n",
              "      <td>-0.034349</td>\n",
              "      <td>-0.501512</td>\n",
              "      <td>-0.10364</td>\n",
              "      <td>-0.070346</td>\n",
              "      <td>-0.200074</td>\n",
              "      <td>-0.460868</td>\n",
              "      <td>1.584172</td>\n",
              "      <td>-0.631147</td>\n",
              "      <td>0.545347</td>\n",
              "      <td>-0.537743</td>\n",
              "      <td>-0.070346</td>\n",
              "      <td>-0.043802</td>\n",
              "      <td>-0.959773</td>\n",
              "      <td>-0.336365</td>\n",
              "      <td>-0.009175</td>\n",
              "      <td>-0.648656</td>\n",
              "      <td>-0.116749</td>\n",
              "      <td>2.884667</td>\n",
              "      <td>-0.043802</td>\n",
              "      <td>-1.177854</td>\n",
              "      <td>-0.009175</td>\n",
              "      <td>-0.648656</td>\n",
              "      <td>-0.116749</td>\n",
              "      <td>2.884667</td>\n",
              "    </tr>\n",
              "  </tbody>\n",
              "</table>\n",
              "<p>5 rows × 316 columns</p>\n",
              "</div>"
            ],
            "text/plain": [
              "   Unnamed: 0  ...  waterpoint_type_group_other\n",
              "0   -1.522547  ...                    -0.346660\n",
              "1    1.237767  ...                    -0.346660\n",
              "2   -0.541022  ...                     2.884667\n",
              "3    1.350836  ...                    -0.346660\n",
              "4    1.192271  ...                     2.884667\n",
              "\n",
              "[5 rows x 316 columns]"
            ]
          },
          "metadata": {
            "tags": []
          },
          "execution_count": 68
        }
      ]
    },
    {
      "cell_type": "code",
      "metadata": {
        "id": "dIvhgxk-als3",
        "colab_type": "code",
        "outputId": "6831d849-5f3f-42cd-97c8-99bd47033a45",
        "colab": {
          "base_uri": "https://localhost:8080/",
          "height": 141
        }
      },
      "source": [
        "clf = xgb.XGBClassifier()\n",
        "\n",
        "#fit\n",
        "clf.fit(X_train, y_train)"
      ],
      "execution_count": 69,
      "outputs": [
        {
          "output_type": "execute_result",
          "data": {
            "text/plain": [
              "XGBClassifier(base_score=0.5, booster='gbtree', colsample_bylevel=1,\n",
              "              colsample_bynode=1, colsample_bytree=1, gamma=0,\n",
              "              learning_rate=0.1, max_delta_step=0, max_depth=3,\n",
              "              min_child_weight=1, missing=None, n_estimators=100, n_jobs=1,\n",
              "              nthread=None, objective='multi:softprob', random_state=0,\n",
              "              reg_alpha=0, reg_lambda=1, scale_pos_weight=1, seed=None,\n",
              "              silent=None, subsample=1, verbosity=1)"
            ]
          },
          "metadata": {
            "tags": []
          },
          "execution_count": 69
        }
      ]
    },
    {
      "cell_type": "code",
      "metadata": {
        "id": "K5UWcKAEaxfe",
        "colab_type": "code",
        "colab": {}
      },
      "source": [
        "#build a pipeline \n",
        "\n",
        "scaled_pipeline_1 = Pipeline([('ss', StandardScaler()),\n",
        "                               ('xgb', xgb.XGBClassifier())])"
      ],
      "execution_count": 0,
      "outputs": []
    },
    {
      "cell_type": "code",
      "metadata": {
        "id": "I550EHo6bX_c",
        "colab_type": "code",
        "outputId": "61aa27ec-64d8-403d-febf-3ee288b27634",
        "colab": {
          "base_uri": "https://localhost:8080/",
          "height": 35
        }
      },
      "source": [
        "#fit to train \n",
        "\n",
        "# Fit the training data to pipeline\n",
        "scaled_pipeline_1.fit(X_train, y_train)\n",
        "\n",
        "# Print the accuracy on test set\n",
        "scaled_pipeline_1.score(X_test, y_test)"
      ],
      "execution_count": 71,
      "outputs": [
        {
          "output_type": "execute_result",
          "data": {
            "text/plain": [
              "0.7478114478114478"
            ]
          },
          "metadata": {
            "tags": []
          },
          "execution_count": 71
        }
      ]
    },
    {
      "cell_type": "markdown",
      "metadata": {
        "id": "_OrDyx3il6-g",
        "colab_type": "text"
      },
      "source": [
        "# XGBOOST"
      ]
    },
    {
      "cell_type": "code",
      "metadata": {
        "id": "h_PRLZNyagrI",
        "colab_type": "code",
        "colab": {}
      },
      "source": [
        "labels = df_labels['status_group']\n",
        "\n",
        "x = train_dummies"
      ],
      "execution_count": 0,
      "outputs": []
    },
    {
      "cell_type": "code",
      "metadata": {
        "id": "5roNkcSfbeVs",
        "colab_type": "code",
        "colab": {}
      },
      "source": [
        "import xgboost as xgb\n",
        "from sklearn.preprocessing import StandardScaler\n",
        "from sklearn.metrics import accuracy_score\n",
        "from sklearn.metrics import recall_score"
      ],
      "execution_count": 0,
      "outputs": []
    },
    {
      "cell_type": "code",
      "metadata": {
        "id": "wiXcHY2UbEfI",
        "colab_type": "code",
        "colab": {}
      },
      "source": [
        "scaler = StandardScaler()"
      ],
      "execution_count": 0,
      "outputs": []
    },
    {
      "cell_type": "code",
      "metadata": {
        "id": "IScXZ_4tbVkk",
        "colab_type": "code",
        "colab": {}
      },
      "source": [
        "scaled_df = scaler.fit_transform(x)"
      ],
      "execution_count": 0,
      "outputs": []
    },
    {
      "cell_type": "code",
      "metadata": {
        "id": "dJN14Hk5bucp",
        "colab_type": "code",
        "colab": {}
      },
      "source": [
        "from sklearn.model_selection import train_test_split\n",
        "\n",
        "X_train, X_test, y_train, y_test = train_test_split(scaled_df, labels)"
      ],
      "execution_count": 0,
      "outputs": []
    },
    {
      "cell_type": "code",
      "metadata": {
        "id": "bFBt1aWIbxuB",
        "colab_type": "code",
        "outputId": "484fc98b-47f8-4d26-d6ce-21a8e3b63091",
        "colab": {
          "base_uri": "https://localhost:8080/",
          "height": 52
        }
      },
      "source": [
        "clf = xgb.XGBClassifier()\n",
        "clf.fit(X_train, y_train)\n",
        "training_preds = clf.predict(X_train)\n",
        "val_preds = clf.predict(X_test)\n",
        "training_accuracy = accuracy_score(y_train, training_preds)\n",
        "val_accuracy = accuracy_score(y_test, val_preds)\n",
        "\n",
        "print(\"Training Accuracy: {:.4}%\".format(training_accuracy * 100))\n",
        "print(\"Validation accuracy: {:.4}%\".format(val_accuracy * 100))"
      ],
      "execution_count": 77,
      "outputs": [
        {
          "output_type": "stream",
          "text": [
            "Training Accuracy: 75.09%\n",
            "Validation accuracy: 75.25%\n"
          ],
          "name": "stdout"
        }
      ]
    },
    {
      "cell_type": "code",
      "metadata": {
        "id": "Ia-cxLM5c5e4",
        "colab_type": "code",
        "outputId": "04f9f1fc-734f-495d-f6f8-68dcca0aa8cd",
        "colab": {
          "base_uri": "https://localhost:8080/",
          "height": 35
        }
      },
      "source": [
        "test_dummies = scaler.fit_transform(test_dummies)\n",
        "test_preds = clf.predict(test_dummies, validate_features=False)\n",
        "val_accuracy = accuracy_score(y_test, test_preds)\n",
        "val_accuracy"
      ],
      "execution_count": 87,
      "outputs": [
        {
          "output_type": "execute_result",
          "data": {
            "text/plain": [
              "0.5008754208754209"
            ]
          },
          "metadata": {
            "tags": []
          },
          "execution_count": 87
        }
      ]
    },
    {
      "cell_type": "code",
      "metadata": {
        "id": "123w0H-VsUaq",
        "colab_type": "code",
        "colab": {}
      },
      "source": [
        "predictions = test_preds\n",
        "test_preds = pd.DataFrame(test_preds)\n",
        "submission = pd.DataFrame(y_test.join(test_preds))\n",
        "submission.rename(columns={0: 'status_group'}, inplace=True)"
      ],
      "execution_count": 0,
      "outputs": []
    },
    {
      "cell_type": "code",
      "metadata": {
        "id": "d1KH7JMutDOm",
        "colab_type": "code",
        "colab": {}
      },
      "source": [
        "submission.to_csv('/content/drive/My Drive/tz_water_well_data/buddha.csv' ,index=0)"
      ],
      "execution_count": 0,
      "outputs": []
    },
    {
      "cell_type": "markdown",
      "metadata": {
        "id": "4yD69HxQ_ng5",
        "colab_type": "text"
      },
      "source": [
        "# Xgboost"
      ]
    },
    {
      "cell_type": "code",
      "metadata": {
        "id": "6g8toS38gq9o",
        "colab_type": "code",
        "colab": {}
      },
      "source": [
        "# Grid Search CV \n",
        "\n",
        "from sklearn.model_selection import GridSearchCV"
      ],
      "execution_count": 0,
      "outputs": []
    },
    {
      "cell_type": "code",
      "metadata": {
        "id": "LnUmLPXdlI_q",
        "colab_type": "code",
        "colab": {}
      },
      "source": [
        "param_grid = {\n",
        "    \"learning_rate\": [0.1], #choose weights that minimize cost function\n",
        "    'max_depth': [6], \n",
        "    'min_child_weight': [10],\n",
        "    'subsample': [ 0.7],\n",
        "    'n_estimators': [5, 30, 100, 250],\n",
        "}"
      ],
      "execution_count": 0,
      "outputs": []
    },
    {
      "cell_type": "code",
      "metadata": {
        "id": "XggZbBiRgR3S",
        "colab_type": "code",
        "colab": {}
      },
      "source": [
        "grid_clf = GridSearchCV(clf, param_grid, scoring='accuracy', cv=3, n_jobs=1)\n",
        "grid_clf.fit(scaled_df, labels)\n",
        "\n",
        "best_parameters = grid_clf.best_params_\n",
        "\n",
        "print(\"Grid Search found the following optimal parameters: \")\n",
        "for param_name in sorted(best_parameters.keys()):\n",
        "    print(\"%s: %r\" % (param_name, best_parameters[param_name]))\n",
        "\n",
        "training_preds = grid_clf.predict(X_train)\n",
        "val_preds = grid_clf.predict(X_test)\n",
        "training_accuracy = accuracy_score(y_train, training_preds)\n",
        "val_accuracy = accuracy_score(y_test, val_preds)\n",
        "\n",
        "print(\"\")\n",
        "print(\"Training Accuracy: {:.4}%\".format(training_accuracy * 100))\n",
        "print(\"Validation accuracy: {:.4}%\".format(val_accuracy * 100))"
      ],
      "execution_count": 0,
      "outputs": []
    },
    {
      "cell_type": "code",
      "metadata": {
        "id": "4cx0JikB1mFz",
        "colab_type": "code",
        "colab": {}
      },
      "source": [
        ""
      ],
      "execution_count": 0,
      "outputs": []
    },
    {
      "cell_type": "markdown",
      "metadata": {
        "id": "4svUV725Yj0l",
        "colab_type": "text"
      },
      "source": [
        "# \n"
      ]
    }
  ]
}