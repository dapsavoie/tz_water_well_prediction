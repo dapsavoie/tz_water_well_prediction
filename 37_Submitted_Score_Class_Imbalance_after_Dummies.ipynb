{
  "nbformat": 4,
  "nbformat_minor": 0,
  "metadata": {
    "colab": {
      "name": "37% Submitted Score Class Imbalance after Dummies.ipynb",
      "provenance": [],
      "collapsed_sections": [],
      "authorship_tag": "ABX9TyMVvwDdrUtN57/fFoBGZc58",
      "include_colab_link": true
    },
    "kernelspec": {
      "name": "python3",
      "display_name": "Python 3"
    }
  },
  "cells": [
    {
      "cell_type": "markdown",
      "metadata": {
        "id": "view-in-github",
        "colab_type": "text"
      },
      "source": [
        "<a href=\"https://colab.research.google.com/github/dapsavoie/tz_water_well_prediction/blob/master/37_Submitted_Score_Class_Imbalance_after_Dummies.ipynb\" target=\"_parent\"><img src=\"https://colab.research.google.com/assets/colab-badge.svg\" alt=\"Open In Colab\"/></a>"
      ]
    },
    {
      "cell_type": "code",
      "metadata": {
        "id": "8cPUwlHm1O2R",
        "colab_type": "code",
        "colab": {}
      },
      "source": [
        "import pandas as pd \n",
        "import numpy as np"
      ],
      "execution_count": 0,
      "outputs": []
    },
    {
      "cell_type": "code",
      "metadata": {
        "id": "3ze0OgSQ1ZvN",
        "colab_type": "code",
        "outputId": "c88cd37e-50ed-40c4-f30e-0c522f1adbe4",
        "colab": {
          "base_uri": "https://localhost:8080/",
          "height": 55
        }
      },
      "source": [
        "from google.colab import drive\n",
        "drive.mount('/content/drive')"
      ],
      "execution_count": 246,
      "outputs": [
        {
          "output_type": "stream",
          "text": [
            "Drive already mounted at /content/drive; to attempt to forcibly remount, call drive.mount(\"/content/drive\", force_remount=True).\n"
          ],
          "name": "stdout"
        }
      ]
    },
    {
      "cell_type": "code",
      "metadata": {
        "id": "UHfaXAzk1bIK",
        "colab_type": "code",
        "colab": {}
      },
      "source": [
        "#Train dummies \n",
        "train_dummies = pd.read_csv(r'/content/drive/My Drive/tz_water_well_data/train_dummmies.csv')\n",
        "\n",
        "#Test export to csv \n",
        "test_dummies = pd.read_csv(r'/content/drive/My Drive/tz_water_well_data/test_dummies.csv')\n",
        "\n",
        "#df_labels\n",
        "df_labels = pd.read_csv('/content/drive/My Drive/tz_water_well_data/training_set_values.csv')"
      ],
      "execution_count": 0,
      "outputs": []
    },
    {
      "cell_type": "code",
      "metadata": {
        "id": "Qjf5AZ_61hc0",
        "colab_type": "code",
        "colab": {}
      },
      "source": [
        "y = df_labels['status_group']\n",
        "\n",
        "X = train_dummies"
      ],
      "execution_count": 0,
      "outputs": []
    },
    {
      "cell_type": "code",
      "metadata": {
        "id": "tAfAxGT5ru5Q",
        "colab_type": "code",
        "outputId": "fd338d69-0934-462d-ea0e-2d09ce0b763e",
        "colab": {
          "base_uri": "https://localhost:8080/",
          "height": 35
        }
      },
      "source": [
        "train_dummies.shape"
      ],
      "execution_count": 249,
      "outputs": [
        {
          "output_type": "execute_result",
          "data": {
            "text/plain": [
              "(59400, 316)"
            ]
          },
          "metadata": {
            "tags": []
          },
          "execution_count": 249
        }
      ]
    },
    {
      "cell_type": "markdown",
      "metadata": {
        "id": "e4xsJC1vCvuZ",
        "colab_type": "text"
      },
      "source": [
        "# Implementing oversampling for handling imbalanced data"
      ]
    },
    {
      "cell_type": "code",
      "metadata": {
        "id": "Gggj_13o73T_",
        "colab_type": "code",
        "colab": {}
      },
      "source": [
        "from imblearn.over_sampling import SMOTE, ADASYN"
      ],
      "execution_count": 0,
      "outputs": []
    },
    {
      "cell_type": "code",
      "metadata": {
        "id": "4AdnQTP378T7",
        "colab_type": "code",
        "outputId": "0db2bca4-01f1-4a77-f43d-8fd38650c481",
        "colab": {
          "base_uri": "https://localhost:8080/",
          "height": 215
        }
      },
      "source": [
        "from sklearn.model_selection import train_test_split\n",
        "\n",
        "X_train, X_test, y_train, y_test = train_test_split(X, y, random_state=123)\n",
        "\n",
        "X_train_resampled, y_train_resampled = SMOTE().fit_sample(X_train, y_train) \n",
        "\n",
        "# Preview synthetic sample class distribution\n",
        "print('\\n')\n",
        "print(pd.Series(y_train_resampled).value_counts()) "
      ],
      "execution_count": 251,
      "outputs": [
        {
          "output_type": "stream",
          "text": [
            "/usr/local/lib/python3.6/dist-packages/sklearn/utils/deprecation.py:87: FutureWarning: Function safe_indexing is deprecated; safe_indexing is deprecated in version 0.22 and will be removed in version 0.24.\n",
            "  warnings.warn(msg, category=FutureWarning)\n",
            "/usr/local/lib/python3.6/dist-packages/sklearn/utils/deprecation.py:87: FutureWarning: Function safe_indexing is deprecated; safe_indexing is deprecated in version 0.22 and will be removed in version 0.24.\n",
            "  warnings.warn(msg, category=FutureWarning)\n"
          ],
          "name": "stderr"
        },
        {
          "output_type": "stream",
          "text": [
            "\n",
            "\n",
            "functional needs repair    24296\n",
            "functional                 24296\n",
            "non functional             24296\n",
            "dtype: int64\n"
          ],
          "name": "stdout"
        }
      ]
    },
    {
      "cell_type": "code",
      "metadata": {
        "id": "ObPMGR5v0uXe",
        "colab_type": "code",
        "outputId": "c80c837f-1f32-45ed-df3d-6e7e16b258a1",
        "colab": {
          "base_uri": "https://localhost:8080/",
          "height": 35
        }
      },
      "source": [
        "X_train_resampled.shape, y_train_resampled.shape"
      ],
      "execution_count": 252,
      "outputs": [
        {
          "output_type": "execute_result",
          "data": {
            "text/plain": [
              "((72888, 316), (72888,))"
            ]
          },
          "metadata": {
            "tags": []
          },
          "execution_count": 252
        }
      ]
    },
    {
      "cell_type": "markdown",
      "metadata": {
        "id": "zL1A923Xcjac",
        "colab_type": "text"
      },
      "source": [
        "# Fit the Model on SMOTE Data"
      ]
    },
    {
      "cell_type": "code",
      "metadata": {
        "id": "NGcQPCmrlvga",
        "colab_type": "code",
        "colab": {}
      },
      "source": [
        "import xgboost as xgb\n",
        "from sklearn.preprocessing import StandardScaler\n",
        "from sklearn.metrics import accuracy_score"
      ],
      "execution_count": 0,
      "outputs": []
    },
    {
      "cell_type": "code",
      "metadata": {
        "id": "wiXcHY2UbEfI",
        "colab_type": "code",
        "colab": {}
      },
      "source": [
        "scaler = StandardScaler()"
      ],
      "execution_count": 0,
      "outputs": []
    },
    {
      "cell_type": "code",
      "metadata": {
        "id": "IScXZ_4tbVkk",
        "colab_type": "code",
        "colab": {}
      },
      "source": [
        "scaled_df = scaler.fit_transform(X_train_resampled)"
      ],
      "execution_count": 0,
      "outputs": []
    },
    {
      "cell_type": "code",
      "metadata": {
        "id": "dJN14Hk5bucp",
        "colab_type": "code",
        "colab": {}
      },
      "source": [
        "from sklearn.model_selection import train_test_split\n",
        "\n",
        "X_train, X_test, y_train, y_test = train_test_split(X_train_resampled, y_train_resampled)"
      ],
      "execution_count": 0,
      "outputs": []
    },
    {
      "cell_type": "code",
      "metadata": {
        "id": "zri0sJRG2Vmt",
        "colab_type": "code",
        "outputId": "8093ddb9-bf6f-439b-bdf1-2670bfbf8878",
        "colab": {
          "base_uri": "https://localhost:8080/",
          "height": 52
        }
      },
      "source": [
        "#Train\n",
        "\n",
        "clf = xgb.XGBClassifier()\n",
        "clf.fit(X_train, y_train)\n",
        "training_preds = clf.predict(X_train)\n",
        "val_preds = clf.predict(X_test)\n",
        "training_accuracy = accuracy_score(y_train, training_preds)\n",
        "val_accuracy = accuracy_score(y_test, val_preds)\n",
        "\n",
        "print(\"Training Accuracy: {:.4}%\".format(training_accuracy * 100))\n",
        "print(\"Validation accuracy: {:.4}%\".format(val_accuracy * 100))"
      ],
      "execution_count": 257,
      "outputs": [
        {
          "output_type": "stream",
          "text": [
            "Training Accuracy: 80.53%\n",
            "Validation accuracy: 80.04%\n"
          ],
          "name": "stdout"
        }
      ]
    },
    {
      "cell_type": "code",
      "metadata": {
        "id": "D57mIiUTk0aO",
        "colab_type": "code",
        "outputId": "e2e0a95b-5ecb-45d5-f85d-277b236a89ec",
        "colab": {
          "base_uri": "https://localhost:8080/",
          "height": 35
        }
      },
      "source": [
        "from sklearn.metrics import recall_score\n",
        "\n",
        "recall_score(y_test, val_preds, average='micro')*100"
      ],
      "execution_count": 258,
      "outputs": [
        {
          "output_type": "execute_result",
          "data": {
            "text/plain": [
              "80.04061025134452"
            ]
          },
          "metadata": {
            "tags": []
          },
          "execution_count": 258
        }
      ]
    },
    {
      "cell_type": "code",
      "metadata": {
        "id": "VNeRYWQOeXO0",
        "colab_type": "code",
        "outputId": "360b14b6-1b8e-47f1-872f-076dc911f213",
        "colab": {
          "base_uri": "https://localhost:8080/",
          "height": 52
        }
      },
      "source": [
        "test_preds = clf.predict(test_dummies, validate_features=False)\n",
        "test_preds"
      ],
      "execution_count": 259,
      "outputs": [
        {
          "output_type": "execute_result",
          "data": {
            "text/plain": [
              "array(['functional', 'functional', 'non functional', ..., 'functional',\n",
              "       'functional', 'non functional'], dtype=object)"
            ]
          },
          "metadata": {
            "tags": []
          },
          "execution_count": 259
        }
      ]
    },
    {
      "cell_type": "code",
      "metadata": {
        "id": "pe1onq6E412p",
        "colab_type": "code",
        "outputId": "2bfa2610-bd15-424a-f633-d2003386405d",
        "colab": {
          "base_uri": "https://localhost:8080/",
          "height": 35
        }
      },
      "source": [
        "test_preds.shape, val_preds.shape, test_dummies.shape, y_test.shape,training_preds.shape"
      ],
      "execution_count": 260,
      "outputs": [
        {
          "output_type": "execute_result",
          "data": {
            "text/plain": [
              "((14850,), (18222,), (14850, 316), (18222,), (54666,))"
            ]
          },
          "metadata": {
            "tags": []
          },
          "execution_count": 260
        }
      ]
    },
    {
      "cell_type": "code",
      "metadata": {
        "colab_type": "code",
        "id": "pYnX8f8d90i6",
        "colab": {}
      },
      "source": [
        "scaled_df = scaler.fit_transform(test_dummies)"
      ],
      "execution_count": 0,
      "outputs": []
    },
    {
      "cell_type": "code",
      "metadata": {
        "id": "_pKfcB_Zcc2V",
        "colab_type": "code",
        "colab": {}
      },
      "source": [
        "test_preds = clf.predict(scaled_df, validate_features=False)"
      ],
      "execution_count": 0,
      "outputs": []
    },
    {
      "cell_type": "code",
      "metadata": {
        "id": "0s6OAIZ196pw",
        "colab_type": "code",
        "colab": {}
      },
      "source": [
        "test_preds = pd.DataFrame(test_preds)"
      ],
      "execution_count": 0,
      "outputs": []
    },
    {
      "cell_type": "code",
      "metadata": {
        "id": "Ub6BlIp3HmSQ",
        "colab_type": "code",
        "colab": {}
      },
      "source": [
        "predictions = test_preds\n",
        "y_test = pd.DataFrame(test_dummies['id'])\n",
        "submission = pd.DataFrame(y_test.join(test_preds))"
      ],
      "execution_count": 0,
      "outputs": []
    },
    {
      "cell_type": "code",
      "metadata": {
        "id": "C2gEQY_8HnAm",
        "colab_type": "code",
        "colab": {}
      },
      "source": [
        "submission.rename(columns={0: 'status_group'}, inplace=True)"
      ],
      "execution_count": 0,
      "outputs": []
    },
    {
      "cell_type": "code",
      "metadata": {
        "id": "48PyAljKfLnI",
        "colab_type": "code",
        "outputId": "b00332b8-3713-4650-e243-4efca74977a7",
        "colab": {
          "base_uri": "https://localhost:8080/",
          "height": 35
        }
      },
      "source": [
        "submission.columns"
      ],
      "execution_count": 268,
      "outputs": [
        {
          "output_type": "execute_result",
          "data": {
            "text/plain": [
              "Index(['id', 'status_group'], dtype='object')"
            ]
          },
          "metadata": {
            "tags": []
          },
          "execution_count": 268
        }
      ]
    },
    {
      "cell_type": "code",
      "metadata": {
        "id": "85K-wWl9fZP5",
        "colab_type": "code",
        "colab": {}
      },
      "source": [
        "submission.to_csv('/content/drive/My Drive/tz_water_well_data/jesu.csv' ,index=0)"
      ],
      "execution_count": 0,
      "outputs": []
    },
    {
      "cell_type": "code",
      "metadata": {
        "id": "8s3VxSnqgINF",
        "colab_type": "code",
        "colab": {}
      },
      "source": [
        ""
      ],
      "execution_count": 0,
      "outputs": []
    }
  ]
}